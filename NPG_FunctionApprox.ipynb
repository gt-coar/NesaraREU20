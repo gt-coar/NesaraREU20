{
 "cells": [
  {
   "cell_type": "markdown",
   "metadata": {},
   "source": [
    "# Natural Policy Gradient with Function approximation"
   ]
  },
  {
   "cell_type": "code",
   "execution_count": 1,
   "metadata": {},
   "outputs": [
    {
     "name": "stdout",
     "output_type": "stream",
     "text": [
      "Requirement already satisfied: pymdptoolbox in /opt/anaconda3/envs/ComputerVision/lib/python3.7/site-packages (4.0b3)\n",
      "Requirement already satisfied: scipy in /opt/anaconda3/envs/ComputerVision/lib/python3.7/site-packages (from pymdptoolbox) (1.4.1)\n",
      "Requirement already satisfied: numpy in /opt/anaconda3/envs/ComputerVision/lib/python3.7/site-packages (from pymdptoolbox) (1.18.1)\n"
     ]
    }
   ],
   "source": [
    "!pip install pymdptoolbox"
   ]
  },
  {
   "cell_type": "code",
   "execution_count": 1,
   "metadata": {},
   "outputs": [],
   "source": [
    "import mdptoolbox.example\n",
    "import numpy as np\n",
    "import sys\n",
    "import time\n",
    "import warnings\n",
    "import matplotlib.pyplot as plt\n",
    "from cvxopt import matrix, solvers  #to solve linear and quadratic optimization problems\n",
    "import os\n",
    "import seaborn as sns\n",
    "sns.set()\n",
    "warnings.filterwarnings('ignore')"
   ]
  },
  {
   "cell_type": "code",
   "execution_count": 3,
   "metadata": {},
   "outputs": [],
   "source": [
    "class HiddenPrints:       #To suppress print statements during execution of library function\n",
    "    def __enter__(self):\n",
    "        self._original_stdout = sys.stdout\n",
    "        sys.stdout = open(os.devnull, 'w')\n",
    "\n",
    "    def __exit__(self, exc_type, exc_val, exc_tb):\n",
    "        sys.stdout.close()\n",
    "        sys.stdout = self._original_stdout"
   ]
  },
  {
   "cell_type": "code",
   "execution_count": 4,
   "metadata": {},
   "outputs": [],
   "source": [
    "'''\n",
    "Class MarkovDP contains the following attributes:\n",
    "1)Number of states  : s\n",
    "2)Number of actions : a\n",
    "3)State Space\n",
    "4)Action Space\n",
    "5)Transition probability matrix of size (a,s,s)\n",
    "6)Reward matrix (a,s,s)\n",
    "'''\n",
    "class MarkovDP:\n",
    "    def __init__(self,s,a):\n",
    "        self.num_state             = s\n",
    "        self.num_action            = a\n",
    "        self.states                = np.array(range(0,s))\n",
    "        self.actions               = np.array(range(0,a))\n",
    "        self.transitions           = np.zeros((a,s,s))\n",
    "        self.rewards               = np.zeros((a,s,s))\n",
    "        \n",
    "# The function below initializes transition probability matrix and rewards marks \n",
    "\n",
    "    def initialize_mdp(self):      \n",
    "        np.random.seed(0)        #for reproducibility \n",
    "        self.transitions, self.rewards = mdptoolbox.example.rand(self.num_state,self.num_action)\n",
    "        self.rewards = np.random.rand(self.num_action,self.num_state,self.num_state)"
   ]
  },
  {
   "cell_type": "markdown",
   "metadata": {},
   "source": [
    "## Utility Functions"
   ]
  },
  {
   "cell_type": "code",
   "execution_count": 5,
   "metadata": {},
   "outputs": [],
   "source": [
    "def softmax(env,theta,phi):\n",
    "    pi = np.zeros((env.num_state,env.num_action),dtype=float)\n",
    "    for s in env.states:\n",
    "        for a in env.actions:\n",
    "            pi[s][a]=np.exp(np.dot(np.array(phi[s][a]),theta))\n",
    "        pi[s]=pi[s]/np.sum(pi[s])\n",
    "    return np.array(pi)\n",
    "\n",
    "def P_matrix(env,pi):\n",
    "    # Compute Transition probabilities P(s,s') using P(s'| s,a ) and pi( a|s ) : Matrix of size |s| x |s|\n",
    "    P=np.empty((env.num_state,env.num_state),dtype=float)\n",
    "    P=np.multiply(np.reshape(pi[:,0],(-1,1)),env.transitions[0][:][:])\n",
    "    for a in range(1,env.num_action):\n",
    "        P=P+np.multiply(np.reshape(pi[:,a],(-1,1)),env.transitions[a][:][:])\n",
    "    return P\n",
    "#Compute discounted state probability distribution      \n",
    "def d_pi_s(env,P,gamma,s):\n",
    "    e_s=np.zeros((env.num_state,1))\n",
    "    e_s[s]=1\n",
    "    i= np.identity(env.num_state)- gamma*(P)\n",
    "    d= (1-gamma) * np.dot(np.linalg.inv(i),e_s)\n",
    "    return d\n",
    "\n"
   ]
  },
  {
   "cell_type": "markdown",
   "metadata": {},
   "source": [
    "## Policy Iteration "
   ]
  },
  {
   "cell_type": "code",
   "execution_count": 10,
   "metadata": {},
   "outputs": [],
   "source": [
    "# Policy Evaluation Function\n",
    "def evaluate_policy(env, pi, gamma, theta):\n",
    "    V = np.zeros((env.num_state,1))\n",
    "    while True:\n",
    "        delta = 0\n",
    "        for s in env.states:\n",
    "            v = V[s].copy()\n",
    "            V=update_v_policy(env, V, pi, s, gamma)    #bellman update \n",
    "            delta = max(delta, abs(v - V[s]))\n",
    "        if delta < theta:\n",
    "            break\n",
    "    return V\n",
    "\n",
    "\n",
    "# Bellman Update function\n",
    "def update_v_policy(env, V, pi, s, gamma):\n",
    "    sum=0\n",
    "    for a in env.actions:\n",
    "        transitions = np.reshape(env.transitions[a][s][:],(-1,1))\n",
    "        rewards = np.reshape(env.rewards[a][s][:],(-1,1))\n",
    "        sum=sum+pi[s][a]*(np.sum(np.multiply(transitions,(rewards+(gamma*V)))))\n",
    "    V[s]=sum\n",
    "    return V\n",
    "\n",
    "# Function that chooses the greedy action for a particular state 's'\n",
    "def choose_best_action(env, V, pi, s, gamma):\n",
    "    q=np.empty((env.num_action,1),dtype=float)\n",
    "    for a in env.actions:\n",
    "        pi[s][a]=0\n",
    "        transitions = np.reshape(env.transitions[a][s][:],(-1,1))\n",
    "        rewards = np.reshape(env.rewards[a][s][:],(-1,1))\n",
    "        q[a]=np.sum(np.multiply(transitions,rewards)+ gamma * np.multiply(transitions,V))\n",
    "    action=np.argmax(q)        #Choose greedy action\n",
    "    pi[s][action]=1            #Update Policy\n",
    "\n",
    "\n",
    "#Policy Improvement step\n",
    "def improve_policy(env, V, pi, gamma):\n",
    "    policy_stable = True        # If policy_stable == True : Policy need not be updated anymore\n",
    "    for s in env.states:\n",
    "        old = pi[s].copy()\n",
    "        choose_best_action(env, V, pi, s, gamma)\n",
    "        if not np.array_equal(pi[s], old): \n",
    "            policy_stable = False\n",
    "    return pi, policy_stable\n",
    "\n",
    "#Policy Iteration\n",
    "def policy_iteration(env, gamma, theta):\n",
    "    V = np.zeros((env.num_state,1))          #Initialize Value function vector : [0,0,0...0]\n",
    "    pi = np.ones((env.num_state,env.num_action)) / env.num_action   #Policy Initialization\n",
    "    policy_stable = False\n",
    "    while not policy_stable:\n",
    "        V = evaluate_policy(env, pi, gamma, theta)          #Policy Evaluation step\n",
    "        pi, policy_stable = improve_policy(env, V, pi, gamma)  #Policy Iteration step\n",
    "    return V, pi"
   ]
  },
  {
   "cell_type": "markdown",
   "metadata": {},
   "source": [
    "## Evaluate Q values under policy pi"
   ]
  },
  {
   "cell_type": "code",
   "execution_count": 11,
   "metadata": {},
   "outputs": [],
   "source": [
    "def evaluate_q(env, pi, gamma, V):\n",
    "    Q = np.zeros((env.num_state,env.num_action))\n",
    "    for s in env.states:\n",
    "        for a in env.actions:\n",
    "            transitions = np.reshape(env.transitions[a][s][:],(-1,1))\n",
    "            rewards = np.reshape(env.rewards[a][s][:],(-1,1))\n",
    "            Q[s][a] = np.sum(np.multiply(transitions,rewards)+ gamma * np.multiply(transitions,V))\n",
    "    return Q"
   ]
  },
  {
   "cell_type": "markdown",
   "metadata": {},
   "source": [
    "## NPG with Function Approximation"
   ]
  },
  {
   "cell_type": "markdown",
   "metadata": {},
   "source": [
    "### Compute \n",
    "#### $\\widetilde{\\phi}$<sub>s,a</sub>   :  $\\phi$<sub>s,a</sub>       - (E<sub>a~$\\pi$[.|s]</sub> $\\phi\\$<sub>s,a'</sub>)"
   ]
  },
  {
   "cell_type": "code",
   "execution_count": 12,
   "metadata": {},
   "outputs": [],
   "source": [
    "def phi_tilde(env,pi,phi,s):\n",
    "    phi_s=np.zeros(d)  #np.zeros replacee\n",
    "    for a in env.actions:\n",
    "        phi_s = phi_s+phi[s][a]*pi[s][a]\n",
    "    #print(phi_s)\n",
    "    return phi_s\n",
    "           "
   ]
  },
  {
   "attachments": {
    "L.png": {
     "image/png": "[encoded data removed]"
    }
   },
   "cell_type": "markdown",
   "metadata": {},
   "source": [
    "![L.png](attachment:L.png)\n",
    "## Compute: 'w' = argmin <sub>$\\omega$</sub> L<sub>$\\nu$</sub>(w; $\\theta$)\n"
   ]
  },
  {
   "cell_type": "code",
   "execution_count": 13,
   "metadata": {},
   "outputs": [],
   "source": [
    "def argmin_wt(Q,p,d):\n",
    "    Q = 2*matrix(Q)\n",
    "    p = matrix(p)\n",
    "    with HiddenPrints():\n",
    "        sol=solvers.qp(Q,p)\n",
    "    wt= np.array(sol['x'])\n",
    "    return wt\n"
   ]
  },
  {
   "cell_type": "markdown",
   "metadata": {},
   "source": [
    "## Natural Policy gradient with function approximation"
   ]
  },
  {
   "cell_type": "code",
   "execution_count": 2,
   "metadata": {},
   "outputs": [],
   "source": [
    "def npg_funapprox(env,gamma,phi,EPS,rho,step_size,iterations,d,V_rho_optimal):\n",
    "    theta = np.zeros((d,1))\n",
    "    min_t = V_rho_optimal\n",
    "    min_list=list()\n",
    "    \n",
    "    for i in range(0,iterations):\n",
    "        pi = softmax(env,theta,phi)\n",
    "        P = P_matrix(env,pi)\n",
    "        V = evaluate_policy(env, pi, gamma, EPS)\n",
    "        Q_pi = evaluate_q(env, pi, gamma, V)\n",
    "        A = Q_pi-V\n",
    "        Q = np.zeros((d,d))\n",
    "        p = np.zeros(d)\n",
    "        d_rho = np.zeros((env.num_state,1))\n",
    "        for s in env.states:\n",
    "            d_s = d_pi_s(env,P,gamma,s)\n",
    "            d_rho = d_rho+ rho[s]*d_s\n",
    "        for s in env.states:\n",
    "            phi_tilde_s = phi_tilde(env,pi,phi,s)  #compute phi_tilde\n",
    "            for a in env.actions:\n",
    "                phi_t = (phi[s][a]-phi_tilde_s)\n",
    "                phi_t = np.reshape(phi_t,(1,d))\n",
    "                phi_t_t = np.reshape(phi_t,(d,1))\n",
    "                Q = Q+ (d_rho[s]*pi[s][a]*np.dot(phi_t_t,phi_t))\n",
    "                phi_t = (phi[s][a]-phi_tilde_s)\n",
    "                p = p+ (-2*A[s][a]*d_rho[s][0]*pi[s][a]*phi_t)\n",
    "        wt = argmin_wt(Q,p,d)          #compute w\n",
    "        theta = theta + step_size*wt  #theta update\n",
    "        V=evaluate_policy(env, pi, gamma, EPS) \n",
    "        min_t=min(min_t,(V_rho_optimal-np.dot(rho,V)[0]))\n",
    "        min_list.append(min_t)\n",
    "\n",
    "    return theta,min_list   "
   ]
  },
  {
   "cell_type": "markdown",
   "metadata": {},
   "source": [
    "## Example"
   ]
  },
  {
   "cell_type": "code",
   "execution_count": 15,
   "metadata": {},
   "outputs": [],
   "source": [
    "'''\n",
    "Define an MDP Environment : Insantiate Class\n",
    "    Number of states : s\n",
    "    Number of actions : a\n",
    "'''\n",
    "\n",
    "s=10\n",
    "a=2\n",
    "d=10\n",
    "env= MarkovDP(s,a)      #Define an MDP Environment : Insantiate Class\n",
    "env.initialize_mdp()    #Define P and R\n",
    "\n",
    "   \n",
    "    "
   ]
  },
  {
   "cell_type": "code",
   "execution_count": 16,
   "metadata": {},
   "outputs": [
    {
     "name": "stdout",
     "output_type": "stream",
     "text": [
      "--- 0.07364869117736816 seconds ---\n"
     ]
    }
   ],
   "source": [
    "gamma = 0.9       #Discount rate\n",
    "EPS = 0.0001    #A small positive number\n",
    "rho= np.ones(env.num_state)/env.num_state\n",
    "learning_rate=(1-gamma)**3/((2*gamma)*env.num_action)\n",
    "\n",
    "start_time = time.time()\n",
    "V_optimal_policy,pi_optimal_policy=policy_iteration(env, gamma, EPS)\n",
    "print(\"--- %s seconds ---\" % (time.time() - start_time))"
   ]
  },
  {
   "cell_type": "code",
   "execution_count": 17,
   "metadata": {},
   "outputs": [],
   "source": [
    "V_rho_optimal = np.dot(rho,V_optimal_policy)[0]"
   ]
  },
  {
   "cell_type": "code",
   "execution_count": 18,
   "metadata": {},
   "outputs": [],
   "source": [
    "np.random.seed(0)\n",
    "phi = np.random.rand(env.num_state,env.num_action,d) #d=2"
   ]
  },
  {
   "cell_type": "code",
   "execution_count": 19,
   "metadata": {},
   "outputs": [],
   "source": [
    "step_size = 0.5\n",
    "iterations= 150\n",
    "theta,min_list = npg_funapprox(env,gamma,phi,EPS,rho,step_size,iterations,d,V_rho_optimal)"
   ]
  },
  {
   "cell_type": "code",
   "execution_count": 20,
   "metadata": {},
   "outputs": [
    {
     "data": {
      "text/plain": [
       "array([[0.00297301],\n",
       "       [0.0025022 ],\n",
       "       [0.00228452],\n",
       "       [0.0066227 ],\n",
       "       [0.00339759],\n",
       "       [0.00414493],\n",
       "       [0.00245409],\n",
       "       [0.00255167],\n",
       "       [0.00299955],\n",
       "       [0.00317284]])"
      ]
     },
     "execution_count": 20,
     "metadata": {},
     "output_type": "execute_result"
    }
   ],
   "source": [
    "pi_funapprox=softmax(env,theta,phi)\n",
    "V_optimal_policy-evaluate_policy(env, pi_funapprox, gamma, EPS)"
   ]
  },
  {
   "cell_type": "code",
   "execution_count": 21,
   "metadata": {},
   "outputs": [],
   "source": [
    "def plot_log(min_list,iterations):\n",
    "    \n",
    "    x=np.log(np.array(range(0,iterations)))\n",
    "    y=np.log(np.array(min_list)[:])\n",
    "    plt.tick_params(axis='y',labelsize=9)\n",
    "    plt.tick_params(axis='x',labelsize=9)\n",
    "    plt.xlabel('log(t)', fontsize=12)\n",
    "    plt.ylabel('log(min(V_opt-V(t)))', fontsize=12)\n",
    "    plt.plot(x,y,color='blue', label='NPG Softmax with function Approximation') \n",
    "    #plt.title(title,fontsize=12)\n",
    "    fig_size=(10,7)\n",
    "    plt.rcParams[\"figure.figsize\"] = fig_size\n",
    "    plt.legend(loc='best') \n",
    "    plt.show()"
   ]
  },
  {
   "cell_type": "code",
   "execution_count": 23,
   "metadata": {},
   "outputs": [
    {
     "data": {
      "image/png": "[encoded data removed]",
      "text/plain": [
       "<Figure size 720x504 with 1 Axes>"
      ]
     },
     "metadata": {},
     "output_type": "display_data"
    }
   ],
   "source": [
    "plot_log(min_list,iterations)"
   ]
  }
 ],
 "metadata": {
  "kernelspec": {
   "display_name": "Python 3",
   "language": "python",
   "name": "python3"
  },
  "language_info": {
   "codemirror_mode": {
    "name": "ipython",
    "version": 3
   },
   "file_extension": ".py",
   "mimetype": "text/x-python",
   "name": "python",
   "nbconvert_exporter": "python",
   "pygments_lexer": "ipython3",
   "version": "3.7.6"
  }
 },
 "nbformat": 4,
 "nbformat_minor": 4
}
