{
 "cells": [
  {
   "cell_type": "markdown",
   "metadata": {
    "colab_type": "text",
    "id": "pfzArJ3JhkfG"
   },
   "source": [
    "#### *pymdptoolbox* is a python library from which MDP examples can be imported </br>\n",
    "##### Documentation of *pymdptoolbox* : https://pymdptoolbox.readthedocs.io/en/latest/api/mdptoolbox.html"
   ]
  },
  {
   "cell_type": "code",
   "execution_count": 1,
   "metadata": {
    "colab": {
     "base_uri": "https://localhost:8080/",
     "height": 224
    },
    "colab_type": "code",
    "id": "qly6dgvxhjD0",
    "outputId": "98703a53-b0f7-4320-eb65-a0aa38cb8d5a"
   },
   "outputs": [
    {
     "name": "stdout",
     "output_type": "stream",
     "text": [
      "Collecting pymdptoolbox\n",
      "  Downloading https://files.pythonhosted.org/packages/56/55/500c4089d2951b794acd4bf9ed2c0ab5082e242bc15c5b4154f557922832/pymdptoolbox-4.0-b3.tar.gz\n",
      "Requirement already satisfied: numpy in /usr/local/lib/python3.6/dist-packages (from pymdptoolbox) (1.18.4)\n",
      "Requirement already satisfied: scipy in /usr/local/lib/python3.6/dist-packages (from pymdptoolbox) (1.4.1)\n",
      "Building wheels for collected packages: pymdptoolbox\n",
      "  Building wheel for pymdptoolbox (setup.py) ... \u001b[?25l\u001b[?25hdone\n",
      "  Created wheel for pymdptoolbox: filename=pymdptoolbox-4.0b3-cp36-none-any.whl size=25659 sha256=d094036fcf4c8b439ee48367d63536fa9c60506ed217b5942514b388324bd4f4\n",
      "  Stored in directory: /root/.cache/pip/wheels/87/a9/a8/40c4e252c02e590737265742425cdd0365fafcc162441a9527\n",
      "Successfully built pymdptoolbox\n",
      "Installing collected packages: pymdptoolbox\n",
      "Successfully installed pymdptoolbox-4.0b3\n"
     ]
    }
   ],
   "source": [
    "!pip install pymdptoolbox   #Install pymdptoolbox within the code"
   ]
  },
  {
   "cell_type": "code",
   "execution_count": 2,
   "metadata": {
    "colab": {
     "base_uri": "https://localhost:8080/",
     "height": 71
    },
    "colab_type": "code",
    "id": "K3m5yQCohrqi",
    "outputId": "2acd7495-204c-4d37-d2c1-f3452b09be80"
   },
   "outputs": [
    {
     "name": "stderr",
     "output_type": "stream",
     "text": [
      "/usr/local/lib/python3.6/dist-packages/statsmodels/tools/_testing.py:19: FutureWarning: pandas.util.testing is deprecated. Use the functions in the public API at pandas.testing instead.\n",
      "  import pandas.util.testing as tm\n"
     ]
    }
   ],
   "source": [
    "import mdptoolbox.example\n",
    "import numpy as np\n",
    "import sys\n",
    "import time\n",
    "import warnings\n",
    "import matplotlib.pyplot as plt\n",
    "import os\n",
    "import seaborn as sns\n",
    "sns.set()\n",
    "warnings.filterwarnings('ignore')"
   ]
  },
  {
   "cell_type": "code",
   "execution_count": null,
   "metadata": {
    "colab": {},
    "colab_type": "code",
    "id": "h5dwNQP1iM_C"
   },
   "outputs": [],
   "source": [
    "'''\n",
    "Class MarkovDP contains the following attributes:\n",
    "1)Number of states  : s\n",
    "2)Number of actions : a\n",
    "3)State Space\n",
    "4)Action Space\n",
    "5)Transition probability matrix of size (a,s,s)\n",
    "6)Reward matrix (a,s,s)\n",
    "'''\n",
    "class MarkovDP:\n",
    "    def __init__(self,s,a):\n",
    "        self.num_state             = s\n",
    "        self.num_action            = a\n",
    "        self.states                = np.array(range(0,s))\n",
    "        self.actions               = np.array(range(0,a))\n",
    "        self.transitions           = np.zeros((a,s,s))\n",
    "        self.rewards               = np.zeros((a,s,s))\n",
    "        self.rewards2              = np.zeros((s,a))\n",
    "        \n",
    "# The function below initializes transition probability matrix and rewards marks \n",
    "\n",
    "    def initialize_mdp(self):   \n",
    "      #for reproducibility \n",
    "        np.random.seed(0)   \n",
    "        self.transitions, self.rewards = mdptoolbox.example.rand(self.num_state,self.num_action)\n",
    "        self.rewards2 = np.random.rand(self.num_state,self.num_action)\n",
    "        for a in self.actions:\n",
    "          for s in self.states:\n",
    "            for s1 in self.states:\n",
    "              self.rewards[a][s][s1] = self.rewards2[s][a]\n",
    "        "
   ]
  },
  {
   "cell_type": "code",
   "execution_count": null,
   "metadata": {
    "colab": {},
    "colab_type": "code",
    "id": "aZvDiErjiXtl"
   },
   "outputs": [],
   "source": [
    "s=3\n",
    "a=2\n",
    "env= MarkovDP(s,a)      #Define an MDP Environment : Insantiate Class\n",
    "env.initialize_mdp()    #Define P and R"
   ]
  },
  {
   "cell_type": "code",
   "execution_count": null,
   "metadata": {
    "colab": {},
    "colab_type": "code",
    "id": "HiAFpw8KtIX7"
   },
   "outputs": [],
   "source": [
    "# Policy Evaluation Function\n",
    "def evaluate_policy(env, pi, gamma, theta):\n",
    "    V = np.zeros((env.num_state,1))\n",
    "    while True:\n",
    "        delta = 0\n",
    "        for s in env.states:\n",
    "            v = V[s].copy()\n",
    "            V=update_v_policy(env, V, pi, s, gamma)    #bellman update \n",
    "            delta = max(delta, abs(v - V[s]))\n",
    "        if delta < theta:\n",
    "            break\n",
    "    return V\n",
    "\n",
    "\n",
    "# Bellman Update function\n",
    "def update_v_policy(env, V, pi, s, gamma):\n",
    "    sum=0\n",
    "    for a in env.actions:\n",
    "        transitions = np.reshape(env.transitions[a][s][:],(-1,1))\n",
    "        rewards =np.reshape(env.rewards[a][s][:],(-1,1))\n",
    "        sum=sum+pi[s][a]*(np.sum(np.multiply(transitions,(rewards+(gamma*V)))))\n",
    "    V[s]=sum\n",
    "    return V\n",
    "\n",
    "# Function that chooses the greedy action for a particular state 's'\n",
    "def choose_best_action(env, V, pi, s, gamma):\n",
    "    q=np.empty((env.num_action,1),dtype=float)\n",
    "    for a in env.actions:\n",
    "        pi[s][a]=0\n",
    "        transitions = np.reshape(env.transitions[a][s][:],(-1,1))\n",
    "        rewards = np.reshape(env.rewards[a][s][:],(-1,1))\n",
    "        q[a]=np.sum(np.multiply(transitions,rewards)+ gamma * np.multiply(transitions,V))\n",
    "    action=np.argmax(q)        #Choose greedy action\n",
    "    pi[s][action]=1            #Update Policy\n",
    "\n",
    "\n",
    "#Policy Improvement step\n",
    "def improve_policy(env, V, pi, gamma):\n",
    "    policy_stable = True        # If policy_stable == True : Policy need not be updated anymore\n",
    "    for s in env.states:\n",
    "        old = pi[s].copy()\n",
    "        choose_best_action(env, V, pi, s, gamma)\n",
    "        if not np.array_equal(pi[s], old): \n",
    "            policy_stable = False\n",
    "    return pi, policy_stable\n",
    "\n",
    "#Policy Iteration\n",
    "def policy_iteration(env, gamma, theta):\n",
    "    V = np.zeros((env.num_state,1))          #Initialize Value function vector : [0,0,0...0]\n",
    "    pi = np.ones((env.num_state,env.num_action)) / env.num_action   #Policy Initialization\n",
    "    policy_stable = False\n",
    "    while not policy_stable:\n",
    "        V = evaluate_policy(env, pi, gamma, theta)          #Policy Evaluation step\n",
    "        pi, policy_stable = improve_policy(env, V, pi, gamma)  #Policy Iteration step\n",
    "    return V, pi"
   ]
  },
  {
   "cell_type": "code",
   "execution_count": null,
   "metadata": {
    "colab": {},
    "colab_type": "code",
    "id": "eE6x5CuRtJ-z"
   },
   "outputs": [],
   "source": [
    "rho= np.ones(env.num_state)/env.num_state\n",
    "V_optimal,pi_optimal=policy_iteration(env, 0.9, 0.0001)\n",
    "V_rho_optimal = np.dot(rho,V_optimal)[0]"
   ]
  },
  {
   "cell_type": "code",
   "execution_count": 7,
   "metadata": {
    "colab": {
     "base_uri": "https://localhost:8080/",
     "height": 68
    },
    "colab_type": "code",
    "id": "xUdh9Imow7wP",
    "outputId": "cd641489-a5ba-4076-a4ca-12d7c81e069d"
   },
   "outputs": [
    {
     "data": {
      "text/plain": [
       "array([[0., 1.],\n",
       "       [0., 1.],\n",
       "       [0., 1.]])"
      ]
     },
     "execution_count": 7,
     "metadata": {
      "tags": []
     },
     "output_type": "execute_result"
    }
   ],
   "source": [
    "pi_optimal"
   ]
  },
  {
   "cell_type": "code",
   "execution_count": 8,
   "metadata": {
    "colab": {
     "base_uri": "https://localhost:8080/",
     "height": 34
    },
    "colab_type": "code",
    "id": "ZGv59zQxpUmm",
    "outputId": "9c8b861c-8d94-47d8-a044-e329bd274815"
   },
   "outputs": [
    {
     "data": {
      "text/plain": [
       "5.522102858184402"
      ]
     },
     "execution_count": 8,
     "metadata": {
      "tags": []
     },
     "output_type": "execute_result"
    }
   ],
   "source": [
    "V_rho_optimal"
   ]
  },
  {
   "cell_type": "code",
   "execution_count": null,
   "metadata": {
    "colab": {},
    "colab_type": "code",
    "id": "6N8NBlkWwhcQ"
   },
   "outputs": [],
   "source": [
    "num_loops=50\n",
    "iterations=1000\n",
    "y = np.empty((num_loops,iterations),dtype=float)"
   ]
  },
  {
   "cell_type": "code",
   "execution_count": 10,
   "metadata": {
    "colab": {
     "base_uri": "https://localhost:8080/",
     "height": 1000
    },
    "colab_type": "code",
    "id": "B_GgA6-Eoo-o",
    "outputId": "aa79b89f-1199-4ea8-c9ad-03396f989f5e"
   },
   "outputs": [
    {
     "name": "stdout",
     "output_type": "stream",
     "text": [
      "Iteration 1 Completed\n",
      "--- 4.934814214706421 seconds ---\n",
      "Iteration 2 Completed\n",
      "--- 5.173887491226196 seconds ---\n",
      "Iteration 3 Completed\n",
      "--- 4.7549474239349365 seconds ---\n",
      "Iteration 4 Completed\n",
      "--- 5.094334125518799 seconds ---\n",
      "Iteration 5 Completed\n",
      "--- 4.573641300201416 seconds ---\n",
      "Iteration 6 Completed\n",
      "--- 4.948918342590332 seconds ---\n",
      "Iteration 7 Completed\n",
      "--- 5.316605567932129 seconds ---\n",
      "Iteration 8 Completed\n",
      "--- 6.005661725997925 seconds ---\n",
      "Iteration 9 Completed\n",
      "--- 5.049168825149536 seconds ---\n",
      "Iteration 10 Completed\n",
      "--- 4.681083917617798 seconds ---\n",
      "Iteration 11 Completed\n",
      "--- 5.224109649658203 seconds ---\n",
      "Iteration 12 Completed\n",
      "--- 5.379595756530762 seconds ---\n",
      "Iteration 13 Completed\n",
      "--- 5.0469489097595215 seconds ---\n",
      "Iteration 14 Completed\n",
      "--- 5.497798919677734 seconds ---\n",
      "Iteration 15 Completed\n",
      "--- 4.3722875118255615 seconds ---\n",
      "Iteration 16 Completed\n",
      "--- 4.6199095249176025 seconds ---\n",
      "Iteration 17 Completed\n",
      "--- 4.359055042266846 seconds ---\n",
      "Iteration 18 Completed\n",
      "--- 5.130176305770874 seconds ---\n",
      "Iteration 19 Completed\n",
      "--- 4.43469762802124 seconds ---\n",
      "Iteration 20 Completed\n",
      "--- 4.418362855911255 seconds ---\n",
      "Iteration 21 Completed\n",
      "--- 5.131976127624512 seconds ---\n",
      "Iteration 22 Completed\n",
      "--- 5.14055323600769 seconds ---\n",
      "Iteration 23 Completed\n",
      "--- 4.571051359176636 seconds ---\n",
      "Iteration 24 Completed\n",
      "--- 5.229203701019287 seconds ---\n",
      "Iteration 25 Completed\n",
      "--- 5.440523862838745 seconds ---\n",
      "Iteration 26 Completed\n",
      "--- 5.421826362609863 seconds ---\n",
      "Iteration 27 Completed\n",
      "--- 5.386434316635132 seconds ---\n",
      "Iteration 28 Completed\n",
      "--- 4.488138675689697 seconds ---\n",
      "Iteration 29 Completed\n",
      "--- 4.876786708831787 seconds ---\n",
      "Iteration 30 Completed\n",
      "--- 5.5570924282073975 seconds ---\n",
      "Iteration 31 Completed\n",
      "--- 4.6950743198394775 seconds ---\n",
      "Iteration 32 Completed\n",
      "--- 5.301389217376709 seconds ---\n",
      "Iteration 33 Completed\n",
      "--- 5.445890665054321 seconds ---\n",
      "Iteration 34 Completed\n",
      "--- 4.887872934341431 seconds ---\n",
      "Iteration 35 Completed\n",
      "--- 5.195808410644531 seconds ---\n",
      "Iteration 36 Completed\n",
      "--- 5.470156669616699 seconds ---\n",
      "Iteration 37 Completed\n",
      "--- 5.295857191085815 seconds ---\n",
      "Iteration 38 Completed\n",
      "--- 4.585741281509399 seconds ---\n",
      "Iteration 39 Completed\n",
      "--- 5.228284120559692 seconds ---\n",
      "Iteration 40 Completed\n",
      "--- 4.521475076675415 seconds ---\n",
      "Iteration 41 Completed\n",
      "--- 5.1751182079315186 seconds ---\n",
      "Iteration 42 Completed\n",
      "--- 4.834503889083862 seconds ---\n",
      "Iteration 43 Completed\n",
      "--- 5.43482780456543 seconds ---\n",
      "Iteration 44 Completed\n",
      "--- 5.331506252288818 seconds ---\n",
      "Iteration 45 Completed\n",
      "--- 4.576914548873901 seconds ---\n",
      "Iteration 46 Completed\n",
      "--- 4.876549243927002 seconds ---\n",
      "Iteration 47 Completed\n",
      "--- 5.226799011230469 seconds ---\n",
      "Iteration 48 Completed\n",
      "--- 4.58035683631897 seconds ---\n",
      "Iteration 49 Completed\n",
      "--- 5.351939678192139 seconds ---\n",
      "Iteration 50 Completed\n",
      "--- 5.166063547134399 seconds ---\n"
     ]
    }
   ],
   "source": [
    "for j in range(0,num_loops):\n",
    "  start_time = time.time()\n",
    "  Q=np.zeros((env.num_state,env.num_action))\n",
    "  V=np.zeros((env.num_state,1))\n",
    "  A=Q-V\n",
    "  pi = np.ones((env.num_state,env.num_action)) / env.num_action\n",
    "\n",
    "  s0=np.random.choice(env.states)\n",
    "  a0=np.random.choice(env.actions,p=pi[s0])\n",
    "  for i in range(0,iterations):\n",
    "    alpha= 1.5/np.power(i+1,0.5)\n",
    "    beta= 1.5/np.power(i+1,0.75)\n",
    "    s1=np.random.choice(env.states,p=env.transitions[a0][s0][:])\n",
    "    #print(pi[s0])\n",
    "    a1=np.random.choice(env.actions,p=pi[s1])\n",
    "\n",
    "    Q[s0][a0]= Q[s0][a0] + alpha * (env.rewards2[s0][a0]+(0.9 * Q[s1][a1]) - Q[s0][a0])\n",
    "    V = np.reshape(np.sum(np.multiply(pi,Q),axis=1),(-1,1))\n",
    "    A=Q-V\n",
    "    X=np.empty((env.num_state,env.num_action),dtype=float)\n",
    "    for s in env.states:\n",
    "      for a in env.actions:\n",
    "        X[s][a]= np.exp(beta*A[s][a])\n",
    "      X[s]=X[s]/np.sum(np.multiply(X[s],pi[s]))\n",
    "    #print(np.sum(X,axis=1))\n",
    "    pi=np.multiply(pi,X)\n",
    "    s0=s1.copy()\n",
    "    a0=a1.copy()\n",
    "    V_temp=evaluate_policy(env, pi, 0.9, 0.0001) \n",
    "    y[j][i]= np.dot(rho,V_temp)\n",
    "  print('Iteration',j+1,'Completed')\n",
    "  print(\"--- %s seconds ---\" % (time.time() - start_time))\n"
   ]
  },
  {
   "cell_type": "code",
   "execution_count": 11,
   "metadata": {
    "colab": {
     "base_uri": "https://localhost:8080/",
     "height": 68
    },
    "colab_type": "code",
    "id": "jOL7jd_9sxT4",
    "outputId": "6aed3fac-0dbb-4bf0-9f1e-3e3b6f1b4253"
   },
   "outputs": [
    {
     "data": {
      "text/plain": [
       "array([[1.00000000e+00, 1.50421495e-21],\n",
       "       [3.27476725e-35, 1.00000000e+00],\n",
       "       [6.45466944e-40, 1.00000000e+00]])"
      ]
     },
     "execution_count": 11,
     "metadata": {
      "tags": []
     },
     "output_type": "execute_result"
    }
   ],
   "source": [
    "pi"
   ]
  },
  {
   "cell_type": "code",
   "execution_count": null,
   "metadata": {
    "colab": {},
    "colab_type": "code",
    "id": "fj9cMot-6lig"
   },
   "outputs": [],
   "source": [
    "# Variance series \n",
    "\n",
    "y_var=np.empty((num_loops,iterations),dtype=float)\n",
    "for i in range(0,num_loops):\n",
    "  y_var[i][0]=V_rho_optimal-y[i][0]\n",
    "  min_t=V_rho_optimal-y[i][0]\n",
    "  for j in range(1,iterations):\n",
    "    min_t=min(min_t,V_rho_optimal-y[i][j])\n",
    "    y_var[i][j]=min_t.copy()\n",
    "#1 log(var)\n",
    "y_var_exp=np.sum(y_var,axis=0)\n",
    "y_var_exp=y_var_exp/num_loops\n",
    "y_var_var=np.transpose(y_var)-np.transpose(np.reshape(y_var_exp,(1,-1)))\n",
    "y_var_var=y_var_var**2\n",
    "y_std_dev=np.power(np.sum(np.transpose(y_var_var),axis=0)/num_loops,0.5)\n",
    "\n",
    "#2 var(log)\n",
    "#y_var_log_exp=np.sum(np.log(y_var),axis=0)\n",
    "#y_var_log_exp=y_var_log_exp/1\n",
    "#y_var_log=np.transpose(np.log(y_var))-np.transpose(np.reshape(y_var_log_exp,(1,-1)))\n",
    "#y_var_log=y_var_log**2\n",
    "#y_var_varlog=np.sum(np.transpose(y_var_log),axis=0)/1\n",
    "#y_std_dev=y_var_var\n",
    "\n"
   ]
  },
  {
   "cell_type": "code",
   "execution_count": null,
   "metadata": {
    "colab": {},
    "colab_type": "code",
    "id": "YoF_EuRyu_7k"
   },
   "outputs": [],
   "source": [
    "#expectation of V*-V(pi_t)\n",
    "y_exp=np.sum(y,axis=0)\n",
    "y_exp=y_exp/num_loops\n",
    "y_exp=V_rho_optimal-y_exp"
   ]
  },
  {
   "cell_type": "code",
   "execution_count": null,
   "metadata": {
    "colab": {},
    "colab_type": "code",
    "id": "KKYa-71Rvlxb"
   },
   "outputs": [],
   "source": [
    "min_list=list()\n",
    "min_t=(y_exp[0])\n",
    "min_list.append(min_t)\n",
    "for i in range(1,len(y_exp)):\n",
    "  min_t=min(min_t,y_exp[i])\n",
    "  min_list.append(min_t)\n",
    "#y[i]=np.array(min_list[i])[2:]+0.0001\n",
    " # y[i]=np.log(np.array(y[i],dtype=float))"
   ]
  },
  {
   "cell_type": "code",
   "execution_count": null,
   "metadata": {
    "colab": {},
    "colab_type": "code",
    "id": "_Ut81W6GvllP"
   },
   "outputs": [],
   "source": [
    "y_upper=np.array(min_list)+y_std_dev\n",
    "y_lower=np.array(min_list)-y_std_dev\n",
    "y_lower[y_lower<=0]=0.0001"
   ]
  },
  {
   "cell_type": "markdown",
   "metadata": {
    "colab_type": "text",
    "id": "yuxCoUP8_d8c"
   },
   "source": [
    "log($\\min_{1$\\leq $t$\\leq $T}$ E(V<sup>*</sup>-V<sup>$\\pi$</sup><sup>t</sup>)) "
   ]
  },
  {
   "cell_type": "code",
   "execution_count": null,
   "metadata": {
    "colab": {},
    "colab_type": "code",
    "id": "Dh7_rkQsvYlp"
   },
   "outputs": [],
   "source": [
    "\n",
    "def plot_log(min_list,y_upper,y_lower,y_std_dev,iterations):\n",
    "    \n",
    "    x=np.log(np.array(range(1,iterations+1)))/np.log(10)\n",
    "    y=np.log(np.array(min_list))/np.log(10)\n",
    "    slope,intercept= np.polyfit(x[5:125],y[5:125],deg=1) \n",
    "    abline_values = [slope * i + intercept for i in x]\n",
    "    #x_labels=np.round(np.power(10,range(0,5)),3)\n",
    "    #y_labels=np.round(np.power(10,np.arange(-0.4,0.5,0.2)),3)\n",
    "    #plt.xticks(range(0,5), x_labels)\n",
    "    #plt.yticks(np.arange(-0.4,0.5,0.2),y_labels)\n",
    "    plt.tick_params(axis='y',labelsize=18)\n",
    "    plt.tick_params(axis='x',labelsize=18)\n",
    "    plt.xlabel('log (T)', fontsize=28)\n",
    "    plt.ylabel('log ($\\min_{1<t<T}$ E[V*-V($\\pi_t$))', fontsize=28)\n",
    "    plt.plot(x,y,label=' $\\min_{1<t<T}$ E(V*-V($\\pi_t$))',linewidth=4)\n",
    "    #plt.scatter(x[:400],y[:400],label=slope,s=10,color='black')\n",
    "    #plt.plot(x,y_std_dev,label='error',linewidth=2)\n",
    "    label='Slope = '+ str(np.round(slope,3))\n",
    "    plt.plot(x,abline_values,'r--',label=label,linewidth=2)\n",
    "    #plt.plot(x,np.log(y_upper),label='upper',linewidth=2)\n",
    "    #plt.plot(x,np.log(y_lower),label='lower',linewidth=2)\n",
    "    #plt.plot(x,np.log(y_std_dev),label='std_dev',linewidth=2)\n",
    "    \n",
    "    #plt.fill_between(x,np.log(y_upper)/np.log(10),np.log(y_lower)/np.log(10),facecolor='yellow',edgecolor='yellow',alpha=0.5)\n",
    "    #plt.plot(x,y_var_varlog,label='varlog')\n",
    "    #plt.plot(x,y_var_logvar,label='logvar')\n",
    "    fig_size=(10,9)\n",
    "    plt.grid(True)\n",
    "    #plt.ylim(-0.35,0.4)\n",
    "    #plt.xlim(0,4)\n",
    "    plt.rcParams[\"figure.figsize\"] = fig_size\n",
    "    plt.legend(loc='best',title='Legend') \n",
    "    plt.show()"
   ]
  },
  {
   "cell_type": "code",
   "execution_count": 22,
   "metadata": {
    "colab": {
     "base_uri": "https://localhost:8080/",
     "height": 580
    },
    "colab_type": "code",
    "id": "ovs-htQcc4mL",
    "outputId": "47e1e62d-de5a-4fe7-d66c-43969aff08c2"
   },
   "outputs": [
    {
     "data": {
      "image/png": "[encoded data removed]",
      "text/plain": [
       "<Figure size 720x648 with 1 Axes>"
      ]
     },
     "metadata": {
      "tags": []
     },
     "output_type": "display_data"
    }
   ],
   "source": [
    "plot_log(min_list,y_upper,y_lower,y_std_dev,iterations)"
   ]
  },
  {
   "cell_type": "markdown",
   "metadata": {
    "colab_type": "text",
    "id": "WSzHxrWCWp_D"
   },
   "source": [
    "## Find slope of best fit line  (from 0-7 on x axis)"
   ]
  },
  {
   "cell_type": "code",
   "execution_count": null,
   "metadata": {
    "colab": {},
    "colab_type": "code",
    "id": "E90ERZxtQehA"
   },
   "outputs": [],
   "source": [
    "x_=np.log(np.array(range(1,iterations+1)))\n",
    "y_=np.log(np.array(min_list))+0.00001"
   ]
  },
  {
   "cell_type": "code",
   "execution_count": null,
   "metadata": {
    "colab": {},
    "colab_type": "code",
    "id": "YqWZAZScQmcR"
   },
   "outputs": [],
   "source": [
    "slope,intercept= np.polyfit(x_[8:1808],y_[8:1808],deg=1) "
   ]
  },
  {
   "cell_type": "code",
   "execution_count": null,
   "metadata": {
    "colab": {
     "base_uri": "https://localhost:8080/",
     "height": 34
    },
    "colab_type": "code",
    "id": "vZ1rKqTnQmhP",
    "outputId": "46fe7b99-92f5-44ba-b67e-34ace9db44ce"
   },
   "outputs": [
    {
     "data": {
      "text/plain": [
       "-0.19454972722883024"
      ]
     },
     "execution_count": 72,
     "metadata": {
      "tags": []
     },
     "output_type": "execute_result"
    }
   ],
   "source": [
    "slope"
   ]
  },
  {
   "cell_type": "code",
   "execution_count": null,
   "metadata": {
    "colab": {
     "base_uri": "https://localhost:8080/",
     "height": 34
    },
    "colab_type": "code",
    "id": "XPJ4Z5RxFrAh",
    "outputId": "e75e1333-d5dc-4c5a-b039-e0f6bf2e88aa"
   },
   "outputs": [
    {
     "data": {
      "text/plain": [
       "0.8214074515092963"
      ]
     },
     "execution_count": 73,
     "metadata": {
      "tags": []
     },
     "output_type": "execute_result"
    }
   ],
   "source": [
    "intercept"
   ]
  },
  {
   "cell_type": "code",
   "execution_count": null,
   "metadata": {
    "colab": {
     "base_uri": "https://localhost:8080/",
     "height": 34
    },
    "colab_type": "code",
    "id": "MMGHeUWBFZMV",
    "outputId": "0d1fba31-8363-4798-9981-2ed9875967fc"
   },
   "outputs": [
    {
     "data": {
      "text/plain": [
       "12.182493960703473"
      ]
     },
     "execution_count": 98,
     "metadata": {
      "tags": []
     },
     "output_type": "execute_result"
    }
   ],
   "source": [
    "np.exp(2.5)"
   ]
  },
  {
   "cell_type": "code",
   "execution_count": null,
   "metadata": {
    "colab": {
     "base_uri": "https://localhost:8080/",
     "height": 34
    },
    "colab_type": "code",
    "id": "rhw-suTAXgdV",
    "outputId": "e1c256ef-1f5c-4c99-d384-97e6cb0a1de6"
   },
   "outputs": [
    {
     "data": {
      "text/plain": [
       "5.623413251903491"
      ]
     },
     "execution_count": 156,
     "metadata": {
      "tags": []
     },
     "output_type": "execute_result"
    }
   ],
   "source": [
    "np.power(10,0.75)"
   ]
  },
  {
   "cell_type": "code",
   "execution_count": 20,
   "metadata": {
    "colab": {
     "base_uri": "https://localhost:8080/",
     "height": 34
    },
    "colab_type": "code",
    "id": "3smiZwApy0Bx",
    "outputId": "57c9825b-b17a-49d6-f56f-0e2dad41259d"
   },
   "outputs": [
    {
     "data": {
      "text/plain": [
       "125.89254117941675"
      ]
     },
     "execution_count": 20,
     "metadata": {
      "tags": []
     },
     "output_type": "execute_result"
    }
   ],
   "source": [
    "np.power(10,2.1)"
   ]
  },
  {
   "cell_type": "markdown",
   "metadata": {
    "colab_type": "text",
    "id": "mSH6pT48z285"
   },
   "source": [
    "sajadkhodadadian@gmail.com"
   ]
  }
 ],
 "metadata": {
  "accelerator": "GPU",
  "colab": {
   "collapsed_sections": [],
   "name": "natural actor critic.ipynb",
   "provenance": []
  },
  "kernelspec": {
   "display_name": "Python 3",
   "language": "python",
   "name": "python3"
  },
  "language_info": {
   "codemirror_mode": {
    "name": "ipython",
    "version": 3
   },
   "file_extension": ".py",
   "mimetype": "text/x-python",
   "name": "python",
   "nbconvert_exporter": "python",
   "pygments_lexer": "ipython3",
   "version": "3.7.4"
  }
 },
 "nbformat": 4,
 "nbformat_minor": 4
}
