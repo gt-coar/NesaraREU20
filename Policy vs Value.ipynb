{
 "cells": [
  {
   "cell_type": "markdown",
   "metadata": {},
   "source": [
    "## Policy Iteration v/s Value Iteration"
   ]
  },
  {
   "cell_type": "markdown",
   "metadata": {},
   "source": [
    "#### *pymdptoolbox* is a python library from which MDP examples can be imported </br>\n",
    "##### Documentation of *pymdptoolbox* : https://pymdptoolbox.readthedocs.io/en/latest/api/mdptoolbox.html"
   ]
  },
  {
   "cell_type": "code",
   "execution_count": 5,
   "metadata": {},
   "outputs": [
    {
     "name": "stdout",
     "output_type": "stream",
     "text": [
      "Requirement already satisfied: pymdptoolbox in /opt/anaconda3/envs/ComputerVision/lib/python3.7/site-packages (4.0b3)\n",
      "Requirement already satisfied: numpy in /opt/anaconda3/envs/ComputerVision/lib/python3.7/site-packages (from pymdptoolbox) (1.18.1)\n",
      "Requirement already satisfied: scipy in /opt/anaconda3/envs/ComputerVision/lib/python3.7/site-packages (from pymdptoolbox) (1.4.1)\n"
     ]
    }
   ],
   "source": [
    "!pip install pymdptoolbox   #Install pymdptoolbox within the code"
   ]
  },
  {
   "cell_type": "markdown",
   "metadata": {},
   "source": [
    "## Import Required Libraries"
   ]
  },
  {
   "cell_type": "code",
   "execution_count": 1,
   "metadata": {},
   "outputs": [],
   "source": [
    "import mdptoolbox.example\n",
    "import numpy as np\n",
    "import sys\n",
    "import time\n",
    "import warnings\n",
    "import matplotlib.pyplot as plt\n",
    "import seaborn as sns\n",
    "sns.set()\n",
    "warnings.filterwarnings('ignore')"
   ]
  },
  {
   "cell_type": "markdown",
   "metadata": {},
   "source": [
    "## Class MarkovDP "
   ]
  },
  {
   "cell_type": "code",
   "execution_count": 2,
   "metadata": {},
   "outputs": [],
   "source": [
    "'''\n",
    "Class MarkovDP contains the following attributes:\n",
    "1)Number of states  : s\n",
    "2)Number of actions : a\n",
    "3)State Space\n",
    "4)Action Space\n",
    "5)Transition probability matrix of size (a,s,s)\n",
    "6)Reward matrix (a,s,s)\n",
    "'''\n",
    "class MarkovDP:\n",
    "    def __init__(self,s,a):\n",
    "        self.num_state             = s\n",
    "        self.num_action            = a\n",
    "        self.states                = np.array(range(0,s))\n",
    "        self.actions               = np.array(range(0,a))\n",
    "        self.transitions           = np.zeros((a,s,s))\n",
    "        self.rewards               = np.zeros((a,s,s))\n",
    "        \n",
    "# The function below initializes transition probability matrix and rewards marks \n",
    "\n",
    "    def initialize_mdp(self):      \n",
    "        np.random.seed(0)        #for reproducibility \n",
    "        self.transitions, self.rewards = mdptoolbox.example.rand(self.num_state,self.num_action)\n",
    "        self.rewards = np.random.rand(self.num_action,self.num_state,self.num_state)\n",
    "        "
   ]
  },
  {
   "cell_type": "markdown",
   "metadata": {},
   "source": [
    "## Policy Iteration Functions\n"
   ]
  },
  {
   "cell_type": "code",
   "execution_count": 3,
   "metadata": {},
   "outputs": [],
   "source": [
    "# Policy Evaluation Function\n",
    "def evaluate_policy(env, V, pi, gamma, theta):\n",
    "    while True:\n",
    "        delta = 0\n",
    "        for s in env.states:\n",
    "            v = V[s].copy()\n",
    "            V=update_v_policy(env, V, pi, s, gamma)    #bellman update \n",
    "            delta = max(delta, abs(v - V[s]))\n",
    "        if delta < theta:\n",
    "            break\n",
    "    return V\n",
    "\n",
    "\n",
    "# Bellman Update function\n",
    "def update_v_policy(env, V, pi, s, gamma):\n",
    "    sum=0\n",
    "    for a in env.actions:\n",
    "        transitions = np.reshape(env.transitions[a][s][:],(-1,1))\n",
    "        rewards = np.reshape(env.rewards[a][s][:],(-1,1))\n",
    "        sum=sum+pi[s][a]*(np.sum(np.multiply(transitions,(rewards+(gamma*V)))))\n",
    "    V[s]=sum\n",
    "    return V\n",
    "\n",
    "## Function that chooses the greedy action for a particular state 's'   \n",
    "def choose_best_action_policy(env, V, pi, s, gamma):\n",
    "    q=np.empty((env.num_action,1),dtype=float)\n",
    "    for a in env.actions:\n",
    "        pi[s][a]=0\n",
    "        transitions = np.reshape(env.transitions[a][s][:],(-1,1))\n",
    "        rewards = np.reshape(env.rewards[a][s][:],(-1,1))\n",
    "        q[a]=np.sum(np.multiply(transitions,(rewards+(gamma*V))))\n",
    "    action=np.argmax(q)          #Choose greedy action\n",
    "    p=np.zeros(env.num_action)            #Update Policy\n",
    "    p[action]=1\n",
    "    return p\n",
    "\n",
    "\n",
    "    \n",
    "# Policy Improvement Function\n",
    "def improve_policy(env, V, pi, gamma):\n",
    "    policy_stable = True        # If policy_stable == True : Policy need not be updated anymore\n",
    "    for s in env.states:\n",
    "        old = pi[s].copy()\n",
    "        pi[s]=choose_best_action_policy(env, V, pi, s, gamma)\n",
    "        if not np.array_equal(pi[s], old): \n",
    "            policy_stable = False\n",
    "    return pi, policy_stable\n",
    "\n",
    "# Policy Iteration\n",
    "def policy_iteration(env, gamma, theta):\n",
    "    V = np.zeros((env.num_state,1))          #Initialize Value function vector : [0,0,0...0]\n",
    "    pi = np.ones((env.num_state,env.num_action)) / env.num_action   #Policy Initialization\n",
    "    policy_stable = False\n",
    "    i=0\n",
    "    history=list()\n",
    "    history_time=list()\n",
    "    x=V.copy()\n",
    "    history.append(x)\n",
    "    history_time.append(0)\n",
    "    start=time.time()\n",
    "    while not policy_stable:\n",
    "        i+=1\n",
    "        V= evaluate_policy(env, V, pi, gamma, theta)          #Policy Evaluation step\n",
    "        pi, policy_stable = improve_policy(env, V, pi, gamma)  #Policy Iteration step\n",
    "        x=V.copy()\n",
    "        history_time.append(time.time()-start)\n",
    "        history.append(x)\n",
    "    \n",
    "    V= evaluate_policy(env, V, pi, gamma, theta) \n",
    "    x=V.copy()\n",
    "    history_time.append(time.time()-start)\n",
    "    history.append(x)\n",
    "    print('Total number of iterations:',i)\n",
    "    return V, pi,history,history_time"
   ]
  },
  {
   "cell_type": "markdown",
   "metadata": {},
   "source": [
    "## Value iteration Functions"
   ]
  },
  {
   "cell_type": "code",
   "execution_count": 9,
   "metadata": {},
   "outputs": [],
   "source": [
    "# Bellman greedy update\n",
    "def update_v_value(env, V, s, gamma):\n",
    "    q=np.empty((env.num_action,1),dtype=float)\n",
    "    for a in env.actions:\n",
    "        transitions = np.reshape(env.transitions[a][s][:],(-1,1))\n",
    "        rewards = np.reshape(env.rewards[a][s][:],(-1,1))\n",
    "        q[a]=np.sum(np.multiply(transitions,(rewards+(gamma*V))))\n",
    "    action=np.argmax(q)\n",
    "    return q[action]\n",
    "    \n",
    "    \n",
    "## Function that chooses the greedy action for a particular state 's'   \n",
    "def choose_best_action_value(env, V, pi, s, gamma):\n",
    "    q=np.empty((env.num_action,1),dtype=float)\n",
    "    for a in env.actions:\n",
    "        pi[s][a]=0\n",
    "        transitions = np.reshape(env.transitions[a][s][:],(-1,1))\n",
    "        rewards = np.reshape(env.rewards[a][s][:],(-1,1))\n",
    "        q[a]=np.sum(np.multiply(transitions,(rewards+(gamma*V))))\n",
    "    action=np.argmax(q)        #Choose greedy action\n",
    "    p=np.zeros(env.num_action)            #Update Policy\n",
    "    p[action]=1\n",
    "    return p\n",
    "    \n",
    "    \n",
    "# Value Iteration\n",
    "def value_iteration(env, gamma, theta):\n",
    "    V = np.random.rand(env.num_state,1)\n",
    "    i=0\n",
    "    history=list()\n",
    "    x=V.copy()\n",
    "    history_time=list()\n",
    "    history.append(x)\n",
    "    history_time.append(0)\n",
    "    start=time.time()\n",
    "    while True:\n",
    "        i+=1\n",
    "        delta = 0\n",
    "        for s in env.states:\n",
    "            v = V[s].copy()\n",
    "            V[s]=update_v_value(env, V, s, gamma)             #Bellman update\n",
    "            delta = max(delta, abs(v - V[s]))\n",
    "        x=V.copy()\n",
    "        history_time.append(time.time()-start)\n",
    "        history.append(x)\n",
    "        if delta < theta:\n",
    "            break\n",
    "    pi = np.ones((env.num_state, env.num_action))/ env.num_action   #Initialize policy\n",
    "    for s in env.states:\n",
    "        pi[s]=choose_best_action_value(env, V, pi, s, gamma)    #Update policy\n",
    "    V= evaluate_policy(env, V, pi, gamma, theta)\n",
    "    x=V.copy()\n",
    "    history_time.append(time.time()-start)\n",
    "    history.append(x)\n",
    "    print('Total number of iterations:',i)\n",
    "    return V, pi,history,history_time"
   ]
  },
  {
   "cell_type": "markdown",
   "metadata": {},
   "source": [
    "## Plot "
   ]
  },
  {
   "cell_type": "code",
   "execution_count": 29,
   "metadata": {},
   "outputs": [],
   "source": [
    "def plot_value(V_policy,history_policy,V_value,history_value,rho,history_policy_time,history_value_time):\n",
    "    \n",
    "    plot_p = list()\n",
    "    plot_v = list()\n",
    "    for i in range(0,len(history_policy)):\n",
    "        plot_p.append(np.sum(np.multiply(rho,np.array(history_policy[i]))))\n",
    "    for i in range(0,len(history_value)):\n",
    "        plot_v.append(np.sum(np.multiply(rho,np.array(history_value[i]))))\n",
    "    #labels = range(max(len(history_policy,history_value)))\n",
    "    #plt.xticks(range(len(labels)), labels)\n",
    "    plt.tick_params(axis='y',labelsize=9)\n",
    "    plt.tick_params(axis='x',labelsize=9)\n",
    "    plt.xlabel('seconds', fontsize=12)\n",
    "    plt.ylabel('Weighted Average Value Function', fontsize=12)\n",
    "    #plt.scatter(history_policy_time,plot_p,color='blue', label='Policy Iteration',s=10) \n",
    "    #plt.scatter(history_value_time,plot_v, color='red', label='Value Iteration',s=10) \n",
    "    plt.plot(history_policy_time,plot_p,color='blue', label='Policy Iteration') \n",
    "    plt.plot(history_value_time,plot_v, color='red', label='Value Iteration') \n",
    "    rho=np.array_str(np.reshape(rho,(1,-1)))\n",
    "    title= 'Policy Iteration v/s Value Iteration, rho='+rho\n",
    "    plt.title(title,fontsize=12)\n",
    "    fig_size=(20,10)\n",
    "    plt.rcParams[\"figure.figsize\"] = fig_size\n",
    "    plt.legend(loc='best') \n",
    "    plt.show()"
   ]
  },
  {
   "cell_type": "markdown",
   "metadata": {},
   "source": [
    "## Comparing the two algorithms"
   ]
  },
  {
   "cell_type": "code",
   "execution_count": 39,
   "metadata": {},
   "outputs": [],
   "source": [
    "'''\n",
    "Define an MDP Environment : Insantiate Class\n",
    "    Number of states : 10\n",
    "    Number of actions : 3\n",
    "'''\n",
    "env= MarkovDP(10,10)      #Define an MDP Environment : Insantiate Class\n",
    "env.initialize_mdp()    #Define P and R\n"
   ]
  },
  {
   "cell_type": "code",
   "execution_count": 40,
   "metadata": {},
   "outputs": [
    {
     "name": "stdout",
     "output_type": "stream",
     "text": [
      "Total number of iterations: 3\n",
      "--- 0.24477314949035645 seconds ---\n"
     ]
    }
   ],
   "source": [
    "gamma = 0.9     #Discount rate\n",
    "theta = 0.0001    #A small positive number\n",
    "\n",
    "start_time = time.time()\n",
    "V_policy,pi_policy,history_policy,history_policy_time=policy_iteration(env, gamma, theta)\n",
    "print(\"--- %s seconds ---\" % (time.time() - start_time))\n",
    "\n",
    "#V_policy=evaluate_policy(env, V_policy, pi_policy, gamma, theta)"
   ]
  },
  {
   "cell_type": "code",
   "execution_count": 41,
   "metadata": {},
   "outputs": [
    {
     "name": "stdout",
     "output_type": "stream",
     "text": [
      "Total number of iterations: 41\n",
      "--- 0.13447880744934082 seconds ---\n"
     ]
    }
   ],
   "source": [
    "gamma = 0.9     #Discount rate\n",
    "theta = 0.0001    #A small positive number\n",
    "\n",
    "start_time = time.time()\n",
    "V_value,pi_value,history_value,history_value_time = value_iteration(env, gamma, theta)\n",
    "print(\"--- %s seconds ---\" % (time.time() - start_time))"
   ]
  },
  {
   "cell_type": "markdown",
   "metadata": {},
   "source": [
    "## Plot  $\\rho\\$ . V for both the algorithms"
   ]
  },
  {
   "cell_type": "code",
   "execution_count": 42,
   "metadata": {},
   "outputs": [
    {
     "data": {
      "image/png": "[encoded data removed]",
      "text/plain": [
       "<Figure size 1440x720 with 1 Axes>"
      ]
     },
     "metadata": {},
     "output_type": "display_data"
    }
   ],
   "source": [
    "rho= np.ones((env.num_state,1))/env.num_state\n",
    "plot_value(V_policy,history_policy,V_value,history_value,rho,history_policy_time,history_value_time)"
   ]
  }
 ],
 "metadata": {
  "kernelspec": {
   "display_name": "Python 3",
   "language": "python",
   "name": "python3"
  },
  "language_info": {
   "codemirror_mode": {
    "name": "ipython",
    "version": 3
   },
   "file_extension": ".py",
   "mimetype": "text/x-python",
   "name": "python",
   "nbconvert_exporter": "python",
   "pygments_lexer": "ipython3",
   "version": "3.7.6"
  }
 },
 "nbformat": 4,
 "nbformat_minor": 4
}
