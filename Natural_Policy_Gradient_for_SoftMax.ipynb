{
 "cells": [
  {
   "cell_type": "markdown",
   "metadata": {
    "colab_type": "text",
    "id": "zqkn-4DVU1Rk"
   },
   "source": [
    "# Implementation of Natural Policy Gradients with SoftMax Parameterization\n"
   ]
  },
  {
   "cell_type": "markdown",
   "metadata": {
    "colab_type": "text",
    "id": "nR_qY_tLU1Os"
   },
   "source": [
    "#### *pymdptoolbox* is a python library from which MDP examples can be imported </br>\n",
    "##### Documentation of *pymdptoolbox* : https://pymdptoolbox.readthedocs.io/en/latest/api/mdptoolbox.html"
   ]
  },
  {
   "cell_type": "code",
   "execution_count": 1,
   "metadata": {
    "colab": {
     "base_uri": "https://localhost:8080/",
     "height": 224
    },
    "colab_type": "code",
    "id": "Y638kmHFVEFN",
    "outputId": "1db91d33-29c9-455c-89fd-663c76efa07c"
   },
   "outputs": [
    {
     "name": "stdout",
     "output_type": "stream",
     "text": [
      "Collecting pymdptoolbox\n",
      "  Downloading https://files.pythonhosted.org/packages/56/55/500c4089d2951b794acd4bf9ed2c0ab5082e242bc15c5b4154f557922832/pymdptoolbox-4.0-b3.tar.gz\n",
      "Requirement already satisfied: numpy in /usr/local/lib/python3.6/dist-packages (from pymdptoolbox) (1.18.4)\n",
      "Requirement already satisfied: scipy in /usr/local/lib/python3.6/dist-packages (from pymdptoolbox) (1.4.1)\n",
      "Building wheels for collected packages: pymdptoolbox\n",
      "  Building wheel for pymdptoolbox (setup.py) ... \u001b[?25l\u001b[?25hdone\n",
      "  Created wheel for pymdptoolbox: filename=pymdptoolbox-4.0b3-cp36-none-any.whl size=25659 sha256=067a43d6a1282454d2210ee0dd24aa94cb5fa956628ac542c7ad4aabf0d1f90b\n",
      "  Stored in directory: /root/.cache/pip/wheels/87/a9/a8/40c4e252c02e590737265742425cdd0365fafcc162441a9527\n",
      "Successfully built pymdptoolbox\n",
      "Installing collected packages: pymdptoolbox\n",
      "Successfully installed pymdptoolbox-4.0b3\n"
     ]
    }
   ],
   "source": [
    "!pip install pymdptoolbox   #Install pymdptoolbox within the code"
   ]
  },
  {
   "cell_type": "code",
   "execution_count": 1,
   "metadata": {
    "colab": {
     "base_uri": "https://localhost:8080/",
     "height": 71
    },
    "colab_type": "code",
    "id": "NugEHXtwOqAq",
    "outputId": "3fae6efa-a1e6-4d03-fb68-4a627626c1fa"
   },
   "outputs": [],
   "source": [
    "import mdptoolbox.example\n",
    "import numpy as np\n",
    "import sys\n",
    "import time\n",
    "import warnings\n",
    "import matplotlib.pyplot as plt\n",
    "import os\n",
    "import seaborn as sns\n",
    "sns.set()\n",
    "warnings.filterwarnings('ignore')"
   ]
  },
  {
   "cell_type": "markdown",
   "metadata": {
    "colab_type": "text",
    "id": "NMrWmbYcXxFj"
   },
   "source": [
    "## Class MarkovDP \n",
    "\n"
   ]
  },
  {
   "cell_type": "code",
   "execution_count": null,
   "metadata": {
    "colab": {},
    "colab_type": "code",
    "id": "BGvDJE52W3SS"
   },
   "outputs": [],
   "source": [
    "'''\n",
    "Class MarkovDP contains the following attributes:\n",
    "1)Number of states  : s\n",
    "2)Number of actions : a\n",
    "3)State Space\n",
    "4)Action Space\n",
    "5)Transition probability matrix of size (a,s,s)\n",
    "6)Reward matrix (a,s,s)\n",
    "'''\n",
    "class MarkovDP:\n",
    "    def __init__(self,s,a):\n",
    "        self.num_state             = s\n",
    "        self.num_action            = a\n",
    "        self.states                = np.array(range(0,s))\n",
    "        self.actions               = np.array(range(0,a))\n",
    "        self.transitions           = np.zeros((a,s,s))\n",
    "        self.rewards               = np.zeros((a,s,s))\n",
    "        \n",
    "# The function below initializes transition probability matrix and rewards marks \n",
    "\n",
    "    def initialize_mdp(self):      \n",
    "        np.random.seed(0)        #for reproducibility \n",
    "        self.transitions, self.rewards = mdptoolbox.example.rand(self.num_state,self.num_action)\n",
    "        self.rewards = np.random.rand(self.num_action,self.num_state,self.num_state)"
   ]
  },
  {
   "cell_type": "markdown",
   "metadata": {
    "colab_type": "text",
    "id": "YuJJZUHdY5II"
   },
   "source": [
    "## Policy Iteration to find optimal"
   ]
  },
  {
   "cell_type": "code",
   "execution_count": null,
   "metadata": {
    "colab": {},
    "colab_type": "code",
    "id": "KFKJkG4CW6IR"
   },
   "outputs": [],
   "source": [
    "# Policy Evaluation Function\n",
    "def evaluate_policy(env, pi, gamma, theta):\n",
    "    V = np.zeros((env.num_state,1))\n",
    "    while True:\n",
    "        delta = 0\n",
    "        for s in env.states:\n",
    "            v = V[s].copy()\n",
    "            V=update_v_policy(env, V, pi, s, gamma)    #bellman update \n",
    "            delta = max(delta, abs(v - V[s]))\n",
    "        if delta < theta:\n",
    "            break\n",
    "    return V\n",
    "\n",
    "\n",
    "# Bellman Update function\n",
    "def update_v_policy(env, V, pi, s, gamma):\n",
    "    sum=0\n",
    "    for a in env.actions:\n",
    "        transitions = np.reshape(env.transitions[a][s][:],(-1,1))\n",
    "        rewards = np.reshape(env.rewards[a][s][:],(-1,1))\n",
    "        sum=sum+pi[s][a]*(np.sum(np.multiply(transitions,(rewards+(gamma*V)))))\n",
    "    V[s]=sum\n",
    "    return V\n",
    "\n",
    "# Function that chooses the greedy action for a particular state 's'\n",
    "def choose_best_action(env, V, pi, s, gamma):\n",
    "    q=np.empty((env.num_action,1),dtype=float)\n",
    "    for a in env.actions:\n",
    "        pi[s][a]=0\n",
    "        transitions = np.reshape(env.transitions[a][s][:],(-1,1))\n",
    "        rewards = np.reshape(env.rewards[a][s][:],(-1,1))\n",
    "        q[a]=np.sum(np.multiply(transitions,rewards)+ gamma * np.multiply(transitions,V))\n",
    "    action=np.argmax(q)        #Choose greedy action\n",
    "    pi[s][action]=1            #Update Policy\n",
    "\n",
    "\n",
    "#Policy Improvement step\n",
    "def improve_policy(env, V, pi, gamma):\n",
    "    policy_stable = True        # If policy_stable == True : Policy need not be updated anymore\n",
    "    for s in env.states:\n",
    "        old = pi[s].copy()\n",
    "        choose_best_action(env, V, pi, s, gamma)\n",
    "        if not np.array_equal(pi[s], old): \n",
    "            policy_stable = False\n",
    "    return pi, policy_stable\n",
    "\n",
    "#Policy Iteration\n",
    "def policy_iteration(env, gamma, theta):\n",
    "    V = np.zeros((env.num_state,1))          #Initialize Value function vector : [0,0,0...0]\n",
    "    pi = np.ones((env.num_state,env.num_action)) / env.num_action   #Policy Initialization\n",
    "    policy_stable = False\n",
    "    while not policy_stable:\n",
    "        V = evaluate_policy(env, pi, gamma, theta)          #Policy Evaluation step\n",
    "        pi, policy_stable = improve_policy(env, V, pi, gamma)  #Policy Iteration step\n",
    "    return V, pi"
   ]
  },
  {
   "cell_type": "markdown",
   "metadata": {
    "colab_type": "text",
    "id": "N-ObLFj-meLZ"
   },
   "source": [
    "## Evaluate Q under policy $\\pi$<sub>t</sub>*italicized text* "
   ]
  },
  {
   "cell_type": "code",
   "execution_count": null,
   "metadata": {
    "colab": {},
    "colab_type": "code",
    "id": "_32OFsuOmBtp"
   },
   "outputs": [],
   "source": [
    "def evaluate_q(env, pi, gamma, V):\n",
    "    Q = np.zeros((env.num_state,env.num_action))\n",
    "    for s in env.states:\n",
    "        for a in env.actions:\n",
    "            transitions = np.reshape(env.transitions[a][s][:],(-1,1))\n",
    "            rewards = np.reshape(env.rewards[a][s][:],(-1,1))\n",
    "            Q[s][a] = np.sum(np.multiply(transitions,rewards)+ gamma * np.multiply(transitions,V))\n",
    "    return Q"
   ]
  },
  {
   "cell_type": "markdown",
   "metadata": {
    "colab_type": "text",
    "id": "txv0UStSiH-8"
   },
   "source": [
    "## Policy Update\n",
    "$\\pi$<sub>t+1</sub>(a|s) = $\\pi$<sub>t</sub>(a|s)  exp(η A<sup>t</sup>(s, a) / (1−γ)) Z<sup>t</sup>(s)</br>where, </br> Z<sup>t</sup>(s) =∑<sub>a∈A</sub> $\\pi$<sub>t</sub>(a|s) exp(η A<sup>t</sup>(s, a)/(1−γ))"
   ]
  },
  {
   "cell_type": "markdown",
   "metadata": {
    "colab_type": "text",
    "id": "Yw_zQQySzxBq"
   },
   "source": [
    "## Constant step size"
   ]
  },
  {
   "cell_type": "code",
   "execution_count": null,
   "metadata": {
    "colab": {},
    "colab_type": "code",
    "id": "ZTD5qjPsiG4j"
   },
   "outputs": [],
   "source": [
    "def softmax_npg(env,gamma,theta,rho,iterations,V_rho_optimal,step_size):\n",
    "    start_time = time.time()\n",
    "    pi = np.ones((env.num_state,env.num_action)) / env.num_action\n",
    "    history=list()\n",
    "    learning_rate = 1\n",
    "    for i in range(0,iterations):\n",
    "        V = evaluate_policy(env, pi, gamma, theta)\n",
    "        Q = evaluate_q(env, pi, gamma, V)\n",
    "        A = Q-V\n",
    "        X=np.empty((env.num_state,env.num_action),dtype=float)\n",
    "        for s in env.states:\n",
    "            for a in env.actions:\n",
    "                X[s][a]= np.exp(step_size*A[s][a]/(1-gamma))\n",
    "            X[s]=X[s]/np.sum(np.multiply(X[s],pi[s]))\n",
    "        pi=np.multiply(pi,X)\n",
    "        t=(V_rho_optimal-np.dot(rho,V)[0])\n",
    "        history.append(t)\n",
    "    print('Iterations Completed')\n",
    "    print(\"--- %s seconds ---\" % (time.time() - start_time))\n",
    "    return pi,V,history\n",
    " "
   ]
  },
  {
   "cell_type": "markdown",
   "metadata": {
    "colab_type": "text",
    "id": "F75ZZOvjtaco"
   },
   "source": [
    "## Plot log(V<sup>*</sup> - V<sup>t</sup>) vs log(t)"
   ]
  },
  {
   "cell_type": "code",
   "execution_count": null,
   "metadata": {
    "colab": {},
    "colab_type": "code",
    "id": "O31GiGqLtZ6P"
   },
   "outputs": [],
   "source": [
    "def plot_log(history,iterations):\n",
    "    \n",
    "    x=np.log(np.array(range(0,iterations)))\n",
    "    y=np.log(np.array(history)[:])\n",
    "    plt.tick_params(axis='y',labelsize=9)\n",
    "    plt.tick_params(axis='x',labelsize=9)\n",
    "    plt.xlabel('log(t)', fontsize=12)\n",
    "    plt.ylabel('log(V_opt-V(t))', fontsize=12)\n",
    "    plt.plot(x,y,color='blue', label='SoftMax NPG') \n",
    "    #plt.title(title,fontsize=12)\n",
    "    fig_size=(10,7)\n",
    "    plt.rcParams[\"figure.figsize\"] = fig_size\n",
    "    plt.legend(loc='best') \n",
    "    plt.show()"
   ]
  },
  {
   "cell_type": "markdown",
   "metadata": {
    "colab_type": "text",
    "id": "sd5zN_4ltv3g"
   },
   "source": [
    "## Example 1"
   ]
  },
  {
   "cell_type": "code",
   "execution_count": null,
   "metadata": {
    "colab": {},
    "colab_type": "code",
    "id": "8htrS29Vtp_n"
   },
   "outputs": [],
   "source": [
    "'''\n",
    "Define an MDP Environment : Insantiate Class\n",
    "    Number of states : s\n",
    "    Number of actions : a\n",
    "'''\n",
    "\n",
    "s=4\n",
    "a=2\n",
    "env1= MarkovDP(s,a)      #Define an MDP Environment : Insantiate Class\n",
    "env1.initialize_mdp()    #Define P and R"
   ]
  },
  {
   "cell_type": "code",
   "execution_count": 9,
   "metadata": {
    "colab": {
     "base_uri": "https://localhost:8080/",
     "height": 34
    },
    "colab_type": "code",
    "id": "7bzJTAmHtxn1",
    "outputId": "a9a1c9a9-16fd-440d-970b-02f16dcebc82"
   },
   "outputs": [
    {
     "name": "stdout",
     "output_type": "stream",
     "text": [
      "--- 0.03548860549926758 seconds ---\n"
     ]
    }
   ],
   "source": [
    "gamma = 0.9       #Discount rate\n",
    "theta = 0.0001    #A small positive number\n",
    "rho= np.ones(env1.num_state)/env1.num_state\n",
    "\n",
    "start_time = time.time()\n",
    "V_optimal_policy,pi_optimal_policy = policy_iteration(env1, gamma, theta)\n",
    "print(\"--- %s seconds ---\" % (time.time() - start_time))"
   ]
  },
  {
   "cell_type": "code",
   "execution_count": null,
   "metadata": {
    "colab": {},
    "colab_type": "code",
    "id": "4dxwh3zIt3t_"
   },
   "outputs": [],
   "source": [
    "V_rho_optimal = np.dot(rho,V_optimal_policy)[0]"
   ]
  },
  {
   "cell_type": "code",
   "execution_count": 11,
   "metadata": {
    "colab": {
     "base_uri": "https://localhost:8080/",
     "height": 34
    },
    "colab_type": "code",
    "id": "8TX_igrWuFdS",
    "outputId": "535877fc-1f7b-4c77-9cce-895d6a66436f"
   },
   "outputs": [
    {
     "data": {
      "text/plain": [
       "6.953538391841189"
      ]
     },
     "execution_count": 11,
     "metadata": {
      "tags": []
     },
     "output_type": "execute_result"
    }
   ],
   "source": [
    "V_rho_optimal"
   ]
  },
  {
   "cell_type": "code",
   "execution_count": 12,
   "metadata": {
    "colab": {
     "base_uri": "https://localhost:8080/",
     "height": 85
    },
    "colab_type": "code",
    "id": "gO9E_OQ-uHU2",
    "outputId": "d821dcfb-7b87-4de1-a549-dd1947ea22ef"
   },
   "outputs": [
    {
     "data": {
      "text/plain": [
       "array([[0., 1.],\n",
       "       [1., 0.],\n",
       "       [0., 1.],\n",
       "       [1., 0.]])"
      ]
     },
     "execution_count": 12,
     "metadata": {
      "tags": []
     },
     "output_type": "execute_result"
    }
   ],
   "source": [
    "pi_optimal_policy"
   ]
  },
  {
   "cell_type": "code",
   "execution_count": 13,
   "metadata": {
    "colab": {
     "base_uri": "https://localhost:8080/",
     "height": 51
    },
    "colab_type": "code",
    "id": "fnBKjdYyuLLc",
    "outputId": "dc14858a-de4b-48b0-de40-9bef47791421"
   },
   "outputs": [
    {
     "name": "stdout",
     "output_type": "stream",
     "text": [
      "Iterations Completed\n",
      "--- 1.6982643604278564 seconds ---\n"
     ]
    }
   ],
   "source": [
    "iterations = 120\n",
    "step_size = 0.1\n",
    "pi_npg,V_npg,history_npg = softmax_npg(env1,gamma,theta,rho,iterations,V_rho_optimal,step_size)"
   ]
  },
  {
   "cell_type": "code",
   "execution_count": 14,
   "metadata": {
    "colab": {
     "base_uri": "https://localhost:8080/",
     "height": 85
    },
    "colab_type": "code",
    "id": "R5XpIO0auvLV",
    "outputId": "65cf872f-d958-4384-80a9-d3b3d519b3a0"
   },
   "outputs": [
    {
     "data": {
      "text/plain": [
       "array([[1.24859273e-25, 1.00000000e+00],\n",
       "       [9.99999999e-01, 1.23829580e-09],\n",
       "       [1.99329419e-06, 9.99998007e-01],\n",
       "       [1.00000000e+00, 4.93717320e-19]])"
      ]
     },
     "execution_count": 14,
     "metadata": {
      "tags": []
     },
     "output_type": "execute_result"
    }
   ],
   "source": [
    "pi_npg"
   ]
  },
  {
   "cell_type": "code",
   "execution_count": 15,
   "metadata": {
    "colab": {
     "base_uri": "https://localhost:8080/",
     "height": 85
    },
    "colab_type": "code",
    "id": "jS36RjZyvDW3",
    "outputId": "e410bae3-f9a8-4dae-9b98-d28335d6c619"
   },
   "outputs": [
    {
     "data": {
      "text/plain": [
       "array([[7.25170073],\n",
       "       [6.74961229],\n",
       "       [6.78834311],\n",
       "       [7.02449711]])"
      ]
     },
     "execution_count": 15,
     "metadata": {
      "tags": []
     },
     "output_type": "execute_result"
    }
   ],
   "source": [
    "V_npg"
   ]
  },
  {
   "cell_type": "code",
   "execution_count": 16,
   "metadata": {
    "colab": {
     "base_uri": "https://localhost:8080/",
     "height": 85
    },
    "colab_type": "code",
    "id": "zD4otOnmvPsp",
    "outputId": "dba0700e-36de-4d37-8146-45d33d1268b6"
   },
   "outputs": [
    {
     "data": {
      "text/plain": [
       "array([[7.25170073],\n",
       "       [6.74961229],\n",
       "       [6.7883434 ],\n",
       "       [7.02449714]])"
      ]
     },
     "execution_count": 16,
     "metadata": {
      "tags": []
     },
     "output_type": "execute_result"
    }
   ],
   "source": [
    "V_optimal_policy"
   ]
  },
  {
   "cell_type": "code",
   "execution_count": 18,
   "metadata": {
    "colab": {
     "base_uri": "https://localhost:8080/",
     "height": 447
    },
    "colab_type": "code",
    "id": "9exbReu5vRDI",
    "outputId": "8f995b50-6a20-491f-b9c5-5c2e51dfff91"
   },
   "outputs": [
    {
     "data": {
      "image/png": "[encoded data removed]",
      "text/plain": [
       "<Figure size 720x504 with 1 Axes>"
      ]
     },
     "metadata": {
      "tags": []
     },
     "output_type": "display_data"
    }
   ],
   "source": [
    "plot_log(history_npg,iterations)"
   ]
  },
  {
   "cell_type": "code",
   "execution_count": 20,
   "metadata": {
    "colab": {
     "base_uri": "https://localhost:8080/",
     "height": 447
    },
    "colab_type": "code",
    "id": "2n-IWA4YvY8N",
    "outputId": "ab11f877-cad9-45ea-9c03-ae67d0022617"
   },
   "outputs": [
    {
     "data": {
      "image/png": "[encoded data removed]",
      "text/plain": [
       "<Figure size 720x504 with 1 Axes>"
      ]
     },
     "metadata": {
      "tags": []
     },
     "output_type": "display_data"
    }
   ],
   "source": [
    "def plot_antilog(history,iterations):\n",
    "    \n",
    "    x=np.array(range(0,iterations))\n",
    "    #x=np.log(np.array(range(0,iterations)))\n",
    "    y=np.log(np.array(history)[:])\n",
    "    slope,intercept= np.polyfit(x[2:14],y[2:14],deg=1) \n",
    "    label='Slope = '+ str(np.round(slope,3))\n",
    "    abline_values = [slope * i + intercept for i in x]\n",
    "    plt.tick_params(axis='y',labelsize=9)\n",
    "    plt.tick_params(axis='x',labelsize=9)\n",
    "    plt.xlabel('T', fontsize=12)\n",
    "    plt.ylabel('log(V_opt-V(t))', fontsize=12)\n",
    "    #plt.plot(x,abline_values,'r--',label=label,linewidth=2)\n",
    "    plt.plot(x,y,color='blue', label='SoftMax NPG') \n",
    "    #plt.title(title,fontsize=12)\n",
    "    fig_size=(10,7)\n",
    "    plt.rcParams[\"figure.figsize\"] = fig_size\n",
    "    plt.legend(loc='best') \n",
    "    plt.show()\n",
    "plot_antilog(history_npg,iterations)"
   ]
  },
  {
   "cell_type": "markdown",
   "metadata": {
    "colab_type": "text",
    "id": "pJXrKKRTwC4v"
   },
   "source": [
    "## Example 2"
   ]
  },
  {
   "cell_type": "code",
   "execution_count": null,
   "metadata": {
    "colab": {},
    "colab_type": "code",
    "id": "Tgxqlkh8v132"
   },
   "outputs": [],
   "source": [
    "'''\n",
    "Define an MDP Environment : Insantiate Class\n",
    "    Number of states : s\n",
    "    Number of actions : a\n",
    "'''\n",
    "\n",
    "s=100\n",
    "a=2\n",
    "env2= MarkovDP(s,a)      #Define an MDP Environment : Insantiate Class\n",
    "env2.initialize_mdp()    #Define P and R"
   ]
  },
  {
   "cell_type": "code",
   "execution_count": 22,
   "metadata": {
    "colab": {
     "base_uri": "https://localhost:8080/",
     "height": 34
    },
    "colab_type": "code",
    "id": "uOK92mpKwXQa",
    "outputId": "704e947f-e58c-4c2b-c9c6-baccc1876fec"
   },
   "outputs": [
    {
     "name": "stdout",
     "output_type": "stream",
     "text": [
      "--- 0.8270418643951416 seconds ---\n"
     ]
    }
   ],
   "source": [
    "gamma = 0.9       #Discount rate\n",
    "theta = 0.0001    #A small positive number\n",
    "rho= np.ones(env2.num_state)/env2.num_state\n",
    "\n",
    "start_time = time.time()\n",
    "V_optimal_policy,pi_optimal_policy = policy_iteration(env2, gamma, theta)\n",
    "print(\"--- %s seconds ---\" % (time.time() - start_time))"
   ]
  },
  {
   "cell_type": "code",
   "execution_count": null,
   "metadata": {
    "colab": {},
    "colab_type": "code",
    "id": "QLHO2zLLwc0j"
   },
   "outputs": [],
   "source": [
    "V_rho_optimal = np.dot(rho,V_optimal_policy)[0]"
   ]
  },
  {
   "cell_type": "code",
   "execution_count": 24,
   "metadata": {
    "colab": {
     "base_uri": "https://localhost:8080/",
     "height": 34
    },
    "colab_type": "code",
    "id": "NsIS4TTTwire",
    "outputId": "d2778005-94d2-4947-88cb-9a9a304bbcd8"
   },
   "outputs": [
    {
     "data": {
      "text/plain": [
       "5.385333280639948"
      ]
     },
     "execution_count": 24,
     "metadata": {
      "tags": []
     },
     "output_type": "execute_result"
    }
   ],
   "source": [
    "V_rho_optimal"
   ]
  },
  {
   "cell_type": "code",
   "execution_count": 25,
   "metadata": {
    "colab": {
     "base_uri": "https://localhost:8080/",
     "height": 51
    },
    "colab_type": "code",
    "id": "xMRfm5nOwrIy",
    "outputId": "138de138-8848-48ba-fa0c-7b76f94e722b"
   },
   "outputs": [
    {
     "name": "stdout",
     "output_type": "stream",
     "text": [
      "Iterations Completed\n",
      "--- 29.134109258651733 seconds ---\n"
     ]
    }
   ],
   "source": [
    "iterations = 200\n",
    "step_size = 0.1\n",
    "pi_npg,V_npg,history_npg = softmax_npg(env2,gamma,theta,rho,iterations,V_rho_optimal,step_size)"
   ]
  },
  {
   "cell_type": "code",
   "execution_count": 26,
   "metadata": {
    "colab": {
     "base_uri": "https://localhost:8080/",
     "height": 447
    },
    "colab_type": "code",
    "id": "JKfK_NBzwuH8",
    "outputId": "37cdd04d-2c7f-45e6-913c-a19b712d9ed7"
   },
   "outputs": [
    {
     "data": {
      "image/png": "[encoded data removed]",
      "text/plain": [
       "<Figure size 720x504 with 1 Axes>"
      ]
     },
     "metadata": {
      "tags": []
     },
     "output_type": "display_data"
    }
   ],
   "source": [
    "plot_log(history_npg,iterations)"
   ]
  },
  {
   "cell_type": "code",
   "execution_count": 27,
   "metadata": {
    "colab": {
     "base_uri": "https://localhost:8080/",
     "height": 447
    },
    "colab_type": "code",
    "id": "GlbG5PEKw65I",
    "outputId": "c60df20a-7521-46d8-c554-97697ea39dca"
   },
   "outputs": [
    {
     "data": {
      "image/png": "[encoded data removed]",
      "text/plain": [
       "<Figure size 720x504 with 1 Axes>"
      ]
     },
     "metadata": {
      "tags": []
     },
     "output_type": "display_data"
    }
   ],
   "source": [
    "def plot_antilog(history,iterations):\n",
    "    \n",
    "    x=np.array(range(0,iterations))\n",
    "    #x=np.log(np.array(range(0,iterations)))\n",
    "    y=np.log(np.array(history)[:])\n",
    "    slope,intercept= np.polyfit(x[2:54],y[2:54],deg=1) \n",
    "    label='Slope = '+ str(np.round(slope,3))\n",
    "    abline_values = [slope * i + intercept for i in x]\n",
    "    plt.tick_params(axis='y',labelsize=9)\n",
    "    plt.tick_params(axis='x',labelsize=9)\n",
    "    plt.xlabel('T', fontsize=12)\n",
    "    plt.ylabel('log(V_opt-V(t))', fontsize=12)\n",
    "    #plt.plot(x,abline_values,'r--',label=label,linewidth=2)\n",
    "    plt.plot(x,y,color='blue', label='SoftMax NPG') \n",
    "    #plt.title(title,fontsize=12)\n",
    "    fig_size=(10,7)\n",
    "    plt.rcParams[\"figure.figsize\"] = fig_size\n",
    "    plt.legend(loc='best') \n",
    "    plt.show()\n",
    "plot_antilog(history_npg,iterations)"
   ]
  },
  {
   "cell_type": "code",
   "execution_count": null,
   "metadata": {
    "colab": {},
    "colab_type": "code",
    "id": "wyD3EqXWxGpl"
   },
   "outputs": [],
   "source": [
    "V_rho_npg = np.dot(rho,V_npg)[0]"
   ]
  },
  {
   "cell_type": "code",
   "execution_count": 29,
   "metadata": {
    "colab": {
     "base_uri": "https://localhost:8080/",
     "height": 34
    },
    "colab_type": "code",
    "id": "eR7wKWcIxbu0",
    "outputId": "7dd51332-f85b-4f36-bb67-ec6ff1dfaaa1"
   },
   "outputs": [
    {
     "data": {
      "text/plain": [
       "5.383520885224557"
      ]
     },
     "execution_count": 29,
     "metadata": {
      "tags": []
     },
     "output_type": "execute_result"
    }
   ],
   "source": [
    "V_rho_npg"
   ]
  },
  {
   "cell_type": "code",
   "execution_count": 173,
   "metadata": {
    "colab": {
     "base_uri": "https://localhost:8080/",
     "height": 34
    },
    "colab_type": "code",
    "id": "a8Dn6sdp0ZFp",
    "outputId": "383553ea-914c-4ad9-d7a8-7ed4af372773"
   },
   "outputs": [
    {
     "data": {
      "text/plain": [
       "2.0137527074704766"
      ]
     },
     "execution_count": 173,
     "metadata": {
      "tags": []
     },
     "output_type": "execute_result"
    }
   ],
   "source": [
    "np.exp(0.7)"
   ]
  },
  {
   "cell_type": "code",
   "execution_count": 174,
   "metadata": {
    "colab": {
     "base_uri": "https://localhost:8080/",
     "height": 34
    },
    "colab_type": "code",
    "id": "TQYLP89m0aoB",
    "outputId": "bdb77eba-a7bf-43ef-fa73-52b37fc87275"
   },
   "outputs": [
    {
     "data": {
      "text/plain": [
       "54.598150033144236"
      ]
     },
     "execution_count": 174,
     "metadata": {
      "tags": []
     },
     "output_type": "execute_result"
    }
   ],
   "source": [
    "np.exp(4)"
   ]
  }
 ],
 "metadata": {
  "accelerator": "GPU",
  "colab": {
   "collapsed_sections": [],
   "name": "Natural Policy Gradient for SoftMax.ipynb",
   "provenance": []
  },
  "kernelspec": {
   "display_name": "Python 3",
   "language": "python",
   "name": "python3"
  },
  "language_info": {
   "codemirror_mode": {
    "name": "ipython",
    "version": 3
   },
   "file_extension": ".py",
   "mimetype": "text/x-python",
   "name": "python",
   "nbconvert_exporter": "python",
   "pygments_lexer": "ipython3",
   "version": "3.7.6"
  }
 },
 "nbformat": 4,
 "nbformat_minor": 4
}
