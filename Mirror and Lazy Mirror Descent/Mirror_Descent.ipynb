{
 "cells": [
  {
   "cell_type": "markdown",
   "metadata": {
    "colab_type": "text",
    "id": "Pnj62vxa3Cof"
   },
   "source": [
    "# Implementation of Mirror Descent \n"
   ]
  },
  {
   "cell_type": "markdown",
   "metadata": {
    "colab_type": "text",
    "id": "2Jr66JYw3DoE"
   },
   "source": [
    "#### *pymdptoolbox* is a python library from which MDP examples can be imported </br>\n",
    "##### Documentation of *pymdptoolbox* : https://pymdptoolbox.readthedocs.io/en/latest/api/mdptoolbox.html\n",
    "\n",
    "\n"
   ]
  },
  {
   "cell_type": "code",
   "execution_count": 1,
   "metadata": {
    "colab": {
     "base_uri": "https://localhost:8080/",
     "height": 224
    },
    "colab_type": "code",
    "id": "l_PM5oAqyqTt",
    "outputId": "ebde46fc-185e-44b7-aa0b-6793bf2d354f"
   },
   "outputs": [
    {
     "name": "stdout",
     "output_type": "stream",
     "text": [
      "Requirement already satisfied: pymdptoolbox in /opt/anaconda3/envs/ComputerVision/lib/python3.7/site-packages (4.0b3)\n",
      "Requirement already satisfied: numpy in /opt/anaconda3/envs/ComputerVision/lib/python3.7/site-packages (from pymdptoolbox) (1.18.1)\n",
      "Requirement already satisfied: scipy in /opt/anaconda3/envs/ComputerVision/lib/python3.7/site-packages (from pymdptoolbox) (1.4.1)\n"
     ]
    }
   ],
   "source": [
    "!pip install pymdptoolbox   #Install pymdptoolbox within the code"
   ]
  },
  {
   "cell_type": "code",
   "execution_count": 2,
   "metadata": {
    "colab": {
     "base_uri": "https://localhost:8080/",
     "height": 34
    },
    "colab_type": "code",
    "id": "rfDHfI_uBrYc",
    "outputId": "81a44a69-e173-4930-9f76-c52fb1e49d7f"
   },
   "outputs": [
    {
     "name": "stdout",
     "output_type": "stream",
     "text": [
      "Requirement already satisfied: cvxopt in /opt/anaconda3/envs/ComputerVision/lib/python3.7/site-packages (1.2.0)\n"
     ]
    }
   ],
   "source": [
    "!pip install cvxopt # A python library to solve linear and quadratic optimization problems"
   ]
  },
  {
   "cell_type": "code",
   "execution_count": 3,
   "metadata": {
    "colab": {},
    "colab_type": "code",
    "id": "HNr2yC5j3I03"
   },
   "outputs": [],
   "source": [
    "import mdptoolbox.example\n",
    "import numpy as np\n",
    "import sys\n",
    "import time\n",
    "import warnings\n",
    "import matplotlib.pyplot as plt\n",
    "from cvxopt import matrix, solvers\n",
    "import os\n",
    "import seaborn as sns\n",
    "sns.set()\n",
    "warnings.filterwarnings('ignore')"
   ]
  },
  {
   "cell_type": "code",
   "execution_count": 4,
   "metadata": {
    "colab": {},
    "colab_type": "code",
    "id": "G0aK6GDAB3OE"
   },
   "outputs": [],
   "source": [
    "class HiddenPrints:       #To suppress print statements during execution of library function\n",
    "    def __enter__(self):\n",
    "        self._original_stdout = sys.stdout\n",
    "        sys.stdout = open(os.devnull, 'w')\n",
    "\n",
    "    def __exit__(self, exc_type, exc_val, exc_tb):\n",
    "        sys.stdout.close()\n",
    "        sys.stdout = self._original_stdout"
   ]
  },
  {
   "cell_type": "markdown",
   "metadata": {
    "colab_type": "text",
    "id": "Q8Yj7f1r3Tem"
   },
   "source": [
    "## Class MarkovDP \n"
   ]
  },
  {
   "cell_type": "code",
   "execution_count": 5,
   "metadata": {
    "colab": {},
    "colab_type": "code",
    "id": "pTn2heKF3OWz"
   },
   "outputs": [],
   "source": [
    "'''\n",
    "Class MarkovDP contains the following attributes:\n",
    "1)Number of states  : s\n",
    "2)Number of actions : a\n",
    "3)State Space\n",
    "4)Action Space\n",
    "5)Transition probability matrix of size (a,s,s)\n",
    "6)Reward matrix (a,s,s)\n",
    "'''\n",
    "class MarkovDP:\n",
    "    def __init__(self,s,a):\n",
    "        self.num_state             = s\n",
    "        self.num_action            = a\n",
    "        self.states                = np.array(range(0,s))\n",
    "        self.actions               = np.array(range(0,a))\n",
    "        self.transitions           = np.zeros((a,s,s))\n",
    "        self.rewards               = np.zeros((a,s,s))\n",
    "        self.rewards2              = np.zeros((s,a))\n",
    "        \n",
    "# The function below initializes transition probability matrix and rewards marks \n",
    "\n",
    "    def initialize_mdp(self):      \n",
    "        np.random.seed(0)        #for reproducibility \n",
    "        self.transitions, self.rewards = mdptoolbox.example.rand(self.num_state,self.num_action)\n",
    "        self.rewards2 = np.random.rand(self.num_state,self.num_action)\n",
    "        for a in self.actions:\n",
    "            for s in self.states:\n",
    "                for s1 in self.states:\n",
    "                    self.rewards[a][s][s1] = self.rewards2[s][a]"
   ]
  },
  {
   "cell_type": "markdown",
   "metadata": {
    "colab_type": "text",
    "id": "V5q8dUVvQRUT"
   },
   "source": [
    "## Policy Iteration"
   ]
  },
  {
   "cell_type": "code",
   "execution_count": 6,
   "metadata": {
    "colab": {},
    "colab_type": "code",
    "id": "n2fvshSpQQ1h"
   },
   "outputs": [],
   "source": [
    "# Policy Evaluation Function\n",
    "def evaluate_policy(env, pi, gamma, theta):\n",
    "    V = np.zeros((env.num_state,1))\n",
    "    while True:\n",
    "        delta = 0\n",
    "        for s in env.states:\n",
    "            v = V[s].copy()\n",
    "            V=update_v_policy(env, V, pi, s, gamma)    #bellman update \n",
    "            delta = max(delta, abs(v - V[s]))\n",
    "        if delta < theta:\n",
    "            break\n",
    "    return V\n",
    "\n",
    "\n",
    "# Bellman Update function\n",
    "def update_v_policy(env, V, pi, s, gamma):\n",
    "    sum=0\n",
    "    for a in env.actions:\n",
    "        transitions = np.reshape(env.transitions[a][s][:],(-1,1))\n",
    "        rewards = np.reshape(env.rewards[a][s][:],(-1,1))\n",
    "        sum=sum+pi[s][a]*(np.sum(np.multiply(transitions,(rewards+(gamma*V)))))\n",
    "    V[s]=sum\n",
    "    return V\n",
    "\n",
    "# Function that chooses the greedy action for a particular state 's'\n",
    "def choose_best_action(env, V, pi, s, gamma):\n",
    "    q=np.empty((env.num_action,1),dtype=float)\n",
    "    for a in env.actions:\n",
    "        pi[s][a]=0\n",
    "        transitions = np.reshape(env.transitions[a][s][:],(-1,1))\n",
    "        rewards = np.reshape(env.rewards[a][s][:],(-1,1))\n",
    "        q[a]=np.sum(np.multiply(transitions,rewards)+ gamma * np.multiply(transitions,V))\n",
    "    action=np.argmax(q)        #Choose greedy action\n",
    "    pi[s][action]=1            #Update Policy\n",
    "\n",
    "\n",
    "#Policy Improvement step\n",
    "def improve_policy(env, V, pi, gamma):\n",
    "    policy_stable = True        # If policy_stable == True : Policy need not be updated anymore\n",
    "    for s in env.states:\n",
    "        old = pi[s].copy()\n",
    "        choose_best_action(env, V, pi, s, gamma)\n",
    "        if not np.array_equal(pi[s], old): \n",
    "            policy_stable = False\n",
    "    return pi, policy_stable\n",
    "\n",
    "#Policy Iteration\n",
    "def policy_iteration(env, gamma, theta):\n",
    "    V = np.zeros((env.num_state,1))          #Initialize Value function vector : [0,0,0...0]\n",
    "    pi = np.ones((env.num_state,env.num_action)) / env.num_action   #Policy Initialization\n",
    "    policy_stable = False\n",
    "    while not policy_stable:\n",
    "        V = evaluate_policy(env, pi, gamma, theta)          #Policy Evaluation step\n",
    "        pi, policy_stable = improve_policy(env, V, pi, gamma)  #Policy Iteration step\n",
    "    return V, pi"
   ]
  },
  {
   "cell_type": "markdown",
   "metadata": {
    "colab_type": "text",
    "id": "Pxb5UE4J8sA1"
   },
   "source": [
    "## Find transition matrix P(s'|s) under policy $\\pi$"
   ]
  },
  {
   "cell_type": "code",
   "execution_count": 7,
   "metadata": {
    "colab": {},
    "colab_type": "code",
    "id": "t6zrHz-Y3Vvc"
   },
   "outputs": [],
   "source": [
    "def P_matrix(env,pi):\n",
    "    \n",
    "    # Compute Transition probabilities P(s,s') using P(s'| s,a ) and pi( a|s ) : Matrix of size |s| x |s|\n",
    "    P=np.empty((env.num_state,env.num_state),dtype=float)\n",
    "    P=np.multiply(np.reshape(pi[:,0],(-1,1)),env.transitions[0][:][:])\n",
    "    for a in range(1,env.num_action):\n",
    "        P=P+np.multiply(np.reshape(pi[:,a],(-1,1)),env.transitions[a][:][:])\n",
    "    return P\n",
    "        "
   ]
  },
  {
   "cell_type": "markdown",
   "metadata": {
    "colab_type": "text",
    "id": "vBsZeLWv87Zq"
   },
   "source": [
    "## Find C<sup>$\\pi$</sup> : $\\Sigma\\pi$[s][a] x reward[s][a]"
   ]
  },
  {
   "cell_type": "code",
   "execution_count": 8,
   "metadata": {
    "colab": {},
    "colab_type": "code",
    "id": "CyQevlEw83Ds"
   },
   "outputs": [],
   "source": [
    "def C_pi(env,pi):\n",
    "    C=np.sum(np.multiply(env.rewards2,pi),axis=1)\n",
    "    return C"
   ]
  },
  {
   "cell_type": "markdown",
   "metadata": {
    "colab_type": "text",
    "id": "rzXi_CzrBx_i"
   },
   "source": [
    "## Projection operator : reduced to a quadratic optimization problem\n",
    "#### Finding a point in the solution space that is closest to the given point"
   ]
  },
  {
   "cell_type": "code",
   "execution_count": 9,
   "metadata": {
    "colab": {},
    "colab_type": "code",
    "id": "gvo9NQdCBxmZ"
   },
   "outputs": [],
   "source": [
    "def projection(env,x):\n",
    "    P = 2*matrix(np.identity(env.num_action))\n",
    "    q = -2*matrix(x)\n",
    "    G = -1*matrix(np.identity(env.num_action))\n",
    "    h = matrix(np.zeros(env.num_action))\n",
    "    A = matrix(np.ones(env.num_action), (1,env.num_action))\n",
    "    b = matrix(1.0)\n",
    "    with HiddenPrints():\n",
    "        sol=solvers.qp(P, q, G, h, A, b)\n",
    "    proj= np.reshape(np.array(sol['x']),(1,-1))\n",
    "    return proj\n"
   ]
  },
  {
   "cell_type": "markdown",
   "metadata": {
    "colab_type": "text",
    "id": "AzzRUwFFCz6f"
   },
   "source": [
    "## Evaluate Q under policy $\\pi$<sub>t</sub>"
   ]
  },
  {
   "cell_type": "code",
   "execution_count": 10,
   "metadata": {
    "colab": {},
    "colab_type": "code",
    "id": "T5uWiXcIC0Rk"
   },
   "outputs": [],
   "source": [
    "def evaluate_q(env, pi, gamma, V):\n",
    "    Q = np.zeros((env.num_state,env.num_action))\n",
    "    for s in env.states:\n",
    "        for a in env.actions:\n",
    "            transitions = np.reshape(env.transitions[a][s][:],(-1,1))\n",
    "            rewards = np.reshape(env.rewards[a][s][:],(-1,1))\n",
    "            Q[s][a] = np.sum(np.multiply(transitions,rewards)+ gamma * np.multiply(transitions,V))\n",
    "    return Q"
   ]
  },
  {
   "cell_type": "markdown",
   "metadata": {
    "colab_type": "text",
    "id": "5-K7PyjUAqhD"
   },
   "source": [
    "## Policy Update :PPG"
   ]
  },
  {
   "cell_type": "code",
   "execution_count": 11,
   "metadata": {
    "colab": {},
    "colab_type": "code",
    "id": "Y_J5q4LFAdcO"
   },
   "outputs": [],
   "source": [
    "def ppg_update(env,pi,Q,t_k):\n",
    "    for s in env.states:\n",
    "        pi[s] = pi[s]-t_k*Q[s]\n",
    "        pi[s] = projection(env,pi[s])\n",
    "    return pi\n",
    "      \n",
    "\n"
   ]
  },
  {
   "cell_type": "markdown",
   "metadata": {
    "colab_type": "text",
    "id": "SM5RJ5w_A4I8"
   },
   "source": [
    "## Policy Update :NE-TRPO"
   ]
  },
  {
   "cell_type": "code",
   "execution_count": 13,
   "metadata": {
    "colab": {},
    "colab_type": "code",
    "id": "-GYhK9UBA4cK"
   },
   "outputs": [],
   "source": [
    "def ne_trpo_update(env,pi,Q,t_k):\n",
    "    X=np.empty((env.num_state,env.num_action),dtype=float)\n",
    "    for s in env.states:\n",
    "        for a in env.actions:\n",
    "            X[s][a]= np.exp(-t_k*Q[s][a])\n",
    "        X[s]=X[s]/np.sum(np.multiply(X[s],pi[s]))\n",
    "    pi=np.multiply(pi,X)\n",
    "\n",
    "    return pi\n",
    "\n"
   ]
  },
  {
   "cell_type": "markdown",
   "metadata": {
    "colab_type": "text",
    "id": "ebQ3ErS7C7Un"
   },
   "source": [
    "## Mirror Descent : Constant Step Size"
   ]
  },
  {
   "cell_type": "markdown",
   "metadata": {
    "colab_type": "text",
    "id": "va3btHYaH7pw"
   },
   "source": [
    "### PPG Update"
   ]
  },
  {
   "cell_type": "code",
   "execution_count": 14,
   "metadata": {
    "colab": {},
    "colab_type": "code",
    "id": "7m3DNQOqC6q1"
   },
   "outputs": [],
   "source": [
    "def trpo_ppg_cstep(env,gamma,iterations,step_size,V_rho_optimal):\n",
    "    start_time = time.time()\n",
    "    pi = np.ones((env.num_state,env.num_action)) / env.num_action \n",
    "    history=list() \n",
    "    t_k = -step_size\n",
    "    for i in range(0,iterations):\n",
    "        P=P_matrix(env,pi)\n",
    "        C=C_pi(env,pi)\n",
    "        A=np.identity(env.num_state)- (gamma*P)\n",
    "        B=C\n",
    "        V = np.dot(np.linalg.inv(A),B)\n",
    "        t=(V_rho_optimal-np.dot(rho,V))\n",
    "\n",
    "        history.append(t)\n",
    "        Q = evaluate_q(env, pi, gamma, V)\n",
    "        pi = ppg_update(env,pi,Q,t_k)\n",
    "    print('Iterations Completed')\n",
    "    print(\"--- %s seconds ---\" % (time.time() - start_time))\n",
    "\n",
    "    return pi,V,history\n",
    "        \n",
    "\n",
    "\n"
   ]
  },
  {
   "cell_type": "markdown",
   "metadata": {
    "colab_type": "text",
    "id": "bZjwByxaH9pz"
   },
   "source": [
    "### NE-TRPO Update"
   ]
  },
  {
   "cell_type": "code",
   "execution_count": 15,
   "metadata": {
    "colab": {},
    "colab_type": "code",
    "id": "GkBaBCSFIBo6"
   },
   "outputs": [],
   "source": [
    "def trpo_ne_cstep(env,gamma,iterations,step_size,V_rho_optimal):\n",
    "    start_time = time.time()\n",
    "    pi = np.ones((env.num_state,env.num_action)) / env.num_action\n",
    "    history=list()\n",
    "    t_k = -step_size\n",
    "    for i in range(0,iterations):\n",
    "        P=P_matrix(env,pi)\n",
    "        C=C_pi(env,pi)\n",
    "        A=np.identity(env.num_state)- (gamma*P)\n",
    "        B=C\n",
    "        V = np.dot(np.linalg.inv(A),B)\n",
    "        t=(V_rho_optimal-np.dot(rho,V))\n",
    "        history.append(t)\n",
    "        Q = evaluate_q(env, pi, gamma, V)\n",
    "        pi = ne_trpo_update(env,pi,Q,t_k)\n",
    "    print('Iterations Completed')\n",
    "    print(\"--- %s seconds ---\" % (time.time() - start_time))\n",
    "\n",
    "    return pi,V,history\n",
    "\n"
   ]
  },
  {
   "cell_type": "markdown",
   "metadata": {
    "colab_type": "text",
    "id": "oLerS-b-Etti"
   },
   "source": [
    "## Mirror Descent : Time-variant Step Size"
   ]
  },
  {
   "cell_type": "markdown",
   "metadata": {
    "colab_type": "text",
    "id": "FrizyDsUIexj"
   },
   "source": [
    "### PPG Update"
   ]
  },
  {
   "cell_type": "code",
   "execution_count": 16,
   "metadata": {
    "colab": {},
    "colab_type": "code",
    "id": "S2FM9ws4EtYZ"
   },
   "outputs": [],
   "source": [
    "def trpo_ppg_vstep(env,gamma,iterations,alpha,V_rho_optimal):\n",
    "    start_time = time.time()\n",
    "    pi = np.ones((env.num_state,env.num_action)) / env.num_action  \n",
    "    history=list()\n",
    "    t_k = -1\n",
    "    for i in range(0,iterations):\n",
    "        if i==0:\n",
    "            pass\n",
    "        elif i%10==0:\n",
    "            t_k = 1/(np.power(i,alpha))\n",
    "        P=P_matrix(env,pi)\n",
    "        C=C_pi(env,pi)\n",
    "        A=np.identity(env.num_state)- (gamma*P)\n",
    "        B=C\n",
    "        V = np.dot(np.linalg.inv(A),B)\n",
    "        t=(V_rho_optimal-np.dot(rho,V))\n",
    "        history.append(t)\n",
    "        Q = evaluate_q(env, pi, gamma, V)\n",
    "        pi = ppg_update(env,pi,Q,t_k)\n",
    "    print('Iterations Completed')\n",
    "    print(\"--- %s seconds ---\" % (time.time() - start_time))\n",
    "\n",
    "    return pi,V,history\n",
    "\n",
    "        \n",
    "\n",
    "\n"
   ]
  },
  {
   "cell_type": "markdown",
   "metadata": {
    "colab_type": "text",
    "id": "okE7crcvIiEy"
   },
   "source": [
    "### NE-TRPO Update"
   ]
  },
  {
   "cell_type": "code",
   "execution_count": 17,
   "metadata": {
    "colab": {},
    "colab_type": "code",
    "id": "CrdCJ-yPIkRQ"
   },
   "outputs": [],
   "source": [
    "def trpo_ne_vstep(env,gamma,iterations,alpha,V_rho_optimal):\n",
    "    start_time = time.time()\n",
    "    pi = np.ones((env.num_state,env.num_action)) / env.num_action\n",
    "    history=list()\n",
    "    t_k = -1 \n",
    "    for i in range(0,iterations):\n",
    "        if i==0:\n",
    "            pass\n",
    "        elif i%10==0:\n",
    "            t_k = 1/(np.power(i,alpha))\n",
    "        P=P_matrix(env,pi)\n",
    "        C=C_pi(env,pi)\n",
    "        A=np.identity(env.num_state)- (gamma*P)\n",
    "        B=C\n",
    "        V = np.dot(np.linalg.inv(A),B)\n",
    "        t=(V_rho_optimal-np.dot(rho,V))\n",
    "        history.append(t)\n",
    "        Q = evaluate_q(env, pi, gamma, V)\n",
    "        pi = ne_trpo_update(env,pi,Q,t_k)\n",
    "\n",
    "    print('Iterations Completed')\n",
    "    print(\"--- %s seconds ---\" % (time.time() - start_time))\n",
    "    return pi,V,history\n",
    "\n",
    "\n",
    "\n"
   ]
  },
  {
   "cell_type": "markdown",
   "metadata": {
    "colab_type": "text",
    "id": "bufMar2pRueq"
   },
   "source": [
    "## Plot log(V<sup>*</sup> - V<sup>t</sup>) vs log(t)"
   ]
  },
  {
   "cell_type": "code",
   "execution_count": 41,
   "metadata": {
    "colab": {},
    "colab_type": "code",
    "id": "xQPFEyzSRtvS"
   },
   "outputs": [],
   "source": [
    "def plot_log(history,iterations,l):\n",
    "    \n",
    "    #x=np.array(range(0,iterations))\n",
    "    x=np.log(np.array(range(0,iterations)))\n",
    "    y=np.log(np.array(history)[:])\n",
    "\n",
    "    plt.tick_params(axis='y',labelsize=9)\n",
    "    plt.tick_params(axis='x',labelsize=9)\n",
    "    plt.xlabel('log(t)', fontsize=12)\n",
    "    plt.ylabel('log(V_opt-V(t))', fontsize=12)\n",
    "    plt.plot(x,y,color='blue',label=l) \n",
    "    plt.title('Mirror Descent',fontsize=12)\n",
    "    fig_size=(10,7)\n",
    "    plt.rcParams[\"figure.figsize\"] = fig_size\n",
    "    plt.legend(loc='best') \n",
    "    plt.show()"
   ]
  },
  {
   "cell_type": "markdown",
   "metadata": {
    "colab_type": "text",
    "id": "o7OqWZQcdDrC"
   },
   "source": [
    "## Plot log(V<sup>*</sup> - V<sup>t</sup>) vs t"
   ]
  },
  {
   "cell_type": "code",
   "execution_count": 42,
   "metadata": {
    "colab": {},
    "colab_type": "code",
    "id": "MQ430bJIdD9o"
   },
   "outputs": [],
   "source": [
    "def plot_antilog(history,iterations,l):\n",
    "    \n",
    "    x=np.array(range(0,iterations))\n",
    "    #x=np.log(np.array(range(0,iterations)))\n",
    "    y=np.log(np.array(history)[:])\n",
    "\n",
    "    plt.tick_params(axis='y',labelsize=9)\n",
    "    plt.tick_params(axis='x',labelsize=9)\n",
    "    plt.xlabel('t', fontsize=12)\n",
    "    plt.ylabel('log(V_opt-V(t))', fontsize=12)\n",
    "    plt.plot(x,y,color='blue',label=l) \n",
    "    plt.title('Mirror Descent',fontsize=12)\n",
    "    fig_size=(10,7)\n",
    "    plt.rcParams[\"figure.figsize\"] = fig_size\n",
    "    plt.legend(loc='best') \n",
    "    plt.show()"
   ]
  },
  {
   "cell_type": "markdown",
   "metadata": {
    "colab_type": "text",
    "id": "o068_lT4QIGT"
   },
   "source": [
    "## Example 1"
   ]
  },
  {
   "cell_type": "code",
   "execution_count": 43,
   "metadata": {
    "colab": {},
    "colab_type": "code",
    "id": "gk8LzHeGQFnY"
   },
   "outputs": [],
   "source": [
    "'''\n",
    "Define an MDP Environment : Insantiate Class\n",
    "    Number of states : s\n",
    "    Number of actions : a\n",
    "'''\n",
    "\n",
    "s=3\n",
    "a=2\n",
    "env= MarkovDP(s,a)      #Define an MDP Environment : Insantiate Class\n",
    "env.initialize_mdp()    #Define P and R"
   ]
  },
  {
   "cell_type": "code",
   "execution_count": 44,
   "metadata": {
    "colab": {
     "base_uri": "https://localhost:8080/",
     "height": 34
    },
    "colab_type": "code",
    "id": "SL9kXikxQF0b",
    "outputId": "e13400a0-2347-4752-8462-6712b253cd73"
   },
   "outputs": [
    {
     "name": "stdout",
     "output_type": "stream",
     "text": [
      "--- 0.017290830612182617 seconds ---\n"
     ]
    }
   ],
   "source": [
    "gamma = 0.9       #Discount rate\n",
    "theta = 0.0001    #A small positive number\n",
    "rho= np.ones(env.num_state)/env.num_state\n",
    "\n",
    "start_time = time.time()\n",
    "V_optimal_policy,pi_optimal_policy = policy_iteration(env, gamma, theta)\n",
    "print(\"--- %s seconds ---\" % (time.time() - start_time))"
   ]
  },
  {
   "cell_type": "code",
   "execution_count": 45,
   "metadata": {
    "colab": {},
    "colab_type": "code",
    "id": "vhk-jJE2QF7A"
   },
   "outputs": [],
   "source": [
    "V_rho_optimal = np.dot(rho,V_optimal_policy)[0]"
   ]
  },
  {
   "cell_type": "code",
   "execution_count": 46,
   "metadata": {
    "colab": {
     "base_uri": "https://localhost:8080/",
     "height": 34
    },
    "colab_type": "code",
    "id": "bxkvQW5IQF_l",
    "outputId": "ee5ffaf2-0f45-4966-ad25-bb9313d96d36"
   },
   "outputs": [
    {
     "data": {
      "text/plain": [
       "5.522102858184402"
      ]
     },
     "execution_count": 46,
     "metadata": {},
     "output_type": "execute_result"
    }
   ],
   "source": [
    "V_rho_optimal"
   ]
  },
  {
   "cell_type": "code",
   "execution_count": 47,
   "metadata": {
    "colab": {
     "base_uri": "https://localhost:8080/",
     "height": 68
    },
    "colab_type": "code",
    "id": "aw3BUQfpUwdg",
    "outputId": "af4c3958-2ec6-45dc-9ca8-c38d29f4c458"
   },
   "outputs": [
    {
     "data": {
      "text/plain": [
       "array([[5.66972692],\n",
       "       [5.26496607],\n",
       "       [5.63161558]])"
      ]
     },
     "execution_count": 47,
     "metadata": {},
     "output_type": "execute_result"
    }
   ],
   "source": [
    "V_optimal_policy"
   ]
  },
  {
   "cell_type": "code",
   "execution_count": 48,
   "metadata": {
    "colab": {
     "base_uri": "https://localhost:8080/",
     "height": 51
    },
    "colab_type": "code",
    "id": "R6ZsFWKCQF4n",
    "outputId": "8456be1f-f5b3-4acc-cde3-b2066a507d37"
   },
   "outputs": [
    {
     "name": "stdout",
     "output_type": "stream",
     "text": [
      "Iterations Completed\n",
      "--- 0.3524308204650879 seconds ---\n"
     ]
    }
   ],
   "source": [
    "iterations = 100\n",
    "step_size = 0.001\n",
    "pi_ppg_cstep,V_ppg_cstep,history_ppg_cstep = trpo_ppg_cstep(env,gamma,iterations,step_size,V_rho_optimal)"
   ]
  },
  {
   "cell_type": "code",
   "execution_count": 49,
   "metadata": {
    "colab": {
     "base_uri": "https://localhost:8080/",
     "height": 464
    },
    "colab_type": "code",
    "id": "t2Zqxg3MR3BB",
    "outputId": "be48a60d-9dbc-4041-b4b6-2051eb6984a1"
   },
   "outputs": [
    {
     "data": {
      "image/png": "[encoded data removed]",
      "text/plain": [
       "<Figure size 720x504 with 1 Axes>"
      ]
     },
     "metadata": {},
     "output_type": "display_data"
    }
   ],
   "source": [
    "plot_log(history_ppg_cstep,iterations,'PPG Constant step')"
   ]
  },
  {
   "cell_type": "code",
   "execution_count": 50,
   "metadata": {
    "colab": {
     "base_uri": "https://localhost:8080/",
     "height": 464
    },
    "colab_type": "code",
    "id": "zrksgd-CdPxf",
    "outputId": "6001f69a-6e89-43ba-bff2-5d60064d98cf"
   },
   "outputs": [
    {
     "data": {
      "image/png": "[encoded data removed]",
      "text/plain": [
       "<Figure size 720x504 with 1 Axes>"
      ]
     },
     "metadata": {},
     "output_type": "display_data"
    }
   ],
   "source": [
    "plot_antilog(history_ppg_cstep,iterations,'PPG Constant Step')"
   ]
  },
  {
   "cell_type": "code",
   "execution_count": 51,
   "metadata": {
    "colab": {
     "base_uri": "https://localhost:8080/",
     "height": 51
    },
    "colab_type": "code",
    "id": "yzjpCO9NQ9Tb",
    "outputId": "69c37d9b-02a8-4dc2-9dae-27212d7ef6f5"
   },
   "outputs": [
    {
     "name": "stdout",
     "output_type": "stream",
     "text": [
      "Iterations Completed\n",
      "--- 0.06634187698364258 seconds ---\n"
     ]
    }
   ],
   "source": [
    "iterations = 120\n",
    "step_size = 0.001\n",
    "pi_ne_cstep,V_ne_cstep,history_ne_cstep = trpo_ne_cstep(env,gamma,iterations,step_size,V_rho_optimal)"
   ]
  },
  {
   "cell_type": "code",
   "execution_count": 52,
   "metadata": {
    "colab": {
     "base_uri": "https://localhost:8080/",
     "height": 464
    },
    "colab_type": "code",
    "id": "BTAy72QaR3ii",
    "outputId": "fea2197f-48dd-4a97-d7f0-c37d0e208173"
   },
   "outputs": [
    {
     "data": {
      "image/png": "[encoded data removed]",
      "text/plain": [
       "<Figure size 720x504 with 1 Axes>"
      ]
     },
     "metadata": {},
     "output_type": "display_data"
    }
   ],
   "source": [
    "plot_log(history_ne_cstep,iterations,'NE TRPO Constant step')"
   ]
  },
  {
   "cell_type": "code",
   "execution_count": 53,
   "metadata": {
    "colab": {
     "base_uri": "https://localhost:8080/",
     "height": 464
    },
    "colab_type": "code",
    "id": "9D5WOBkDdbRZ",
    "outputId": "ed7e9f3e-a9de-441e-b0ae-6d738c86feda"
   },
   "outputs": [
    {
     "data": {
      "image/png": "[encoded data removed]",
      "text/plain": [
       "<Figure size 720x504 with 1 Axes>"
      ]
     },
     "metadata": {},
     "output_type": "display_data"
    }
   ],
   "source": [
    "plot_antilog(history_ne_cstep,iterations,'NE TRPO Constant step')"
   ]
  }
 ],
 "metadata": {
  "colab": {
   "collapsed_sections": [],
   "name": "Mirror Descent.ipynb",
   "provenance": []
  },
  "kernelspec": {
   "display_name": "Python 3",
   "language": "python",
   "name": "python3"
  },
  "language_info": {
   "codemirror_mode": {
    "name": "ipython",
    "version": 3
   },
   "file_extension": ".py",
   "mimetype": "text/x-python",
   "name": "python",
   "nbconvert_exporter": "python",
   "pygments_lexer": "ipython3",
   "version": "3.7.6"
  }
 },
 "nbformat": 4,
 "nbformat_minor": 4
}
