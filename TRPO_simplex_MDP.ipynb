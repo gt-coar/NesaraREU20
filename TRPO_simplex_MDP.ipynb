{
 "cells": [
  {
   "cell_type": "markdown",
   "metadata": {},
   "source": [
    "# TRPO : Linear Programming Approach"
   ]
  },
  {
   "cell_type": "code",
   "execution_count": 602,
   "metadata": {},
   "outputs": [],
   "source": [
    "import mdptoolbox.example\n",
    "import numpy as np\n",
    "import sys\n",
    "import time\n",
    "import warnings\n",
    "import matplotlib.pyplot as plt\n",
    "import scipy\n",
    "import os\n",
    "import seaborn as sns\n",
    "sns.set()\n",
    "warnings.filterwarnings('ignore')"
   ]
  },
  {
   "cell_type": "code",
   "execution_count": 603,
   "metadata": {},
   "outputs": [],
   "source": [
    "'''\n",
    "Class MarkovDP contains the following attributes:\n",
    "1)Number of states  : s\n",
    "2)Number of actions : a\n",
    "3)State Space\n",
    "4)Action Space\n",
    "5)Transition probability matrix of size (a,s,s)\n",
    "6)Reward matrix (a,s,s)\n",
    "'''\n",
    "class MarkovDP:\n",
    "    def __init__(self,s,a):\n",
    "        self.num_state             = s\n",
    "        self.num_action            = a\n",
    "        self.states                = np.array(range(0,s))\n",
    "        self.actions               = np.array(range(0,a))\n",
    "        self.transitions           = np.zeros((a,s,s))\n",
    "        self.rewards               = np.zeros((a,s,s))\n",
    "        \n",
    "# The function below initializes transition probability matrix and rewards marks \n",
    "\n",
    "    def initialize_mdp(self):      \n",
    "        np.random.seed(0)        #for reproducibility \n",
    "        self.transitions, self.rewards = mdptoolbox.example.rand(self.num_state,self.num_action)\n",
    "        self.rewards = np.random.rand(self.num_action,self.num_state,self.num_state)"
   ]
  },
  {
   "cell_type": "code",
   "execution_count": 604,
   "metadata": {},
   "outputs": [],
   "source": [
    "# Policy Evaluation Function\n",
    "def evaluate_policy(env, pi, gamma, theta):\n",
    "    V = np.zeros((env.num_state,1))\n",
    "    while True:\n",
    "        delta = 0\n",
    "        for s in env.states:\n",
    "            v = V[s].copy()\n",
    "            V=update_v_policy(env, V, pi, s, gamma)    #bellman update \n",
    "            delta = max(delta, abs(v - V[s]))\n",
    "        if delta < theta:\n",
    "            break\n",
    "    return V\n",
    "\n",
    "\n",
    "# Bellman Update function\n",
    "def update_v_policy(env, V, pi, s, gamma):\n",
    "    sum=0\n",
    "    for a in env.actions:\n",
    "        transitions = np.reshape(env.transitions[a][s][:],(-1,1))\n",
    "        rewards = np.reshape(env.rewards[a][s][:],(-1,1))\n",
    "        sum=sum+pi[s][a]*(np.sum(np.multiply(transitions,(rewards+(gamma*V)))))\n",
    "    V[s]=sum\n",
    "    return V\n",
    "\n",
    "# Function that chooses the greedy action for a particular state 's'\n",
    "def choose_best_action(env, V, pi, s, gamma):\n",
    "    q=np.empty((env.num_action,1),dtype=float)\n",
    "    for a in env.actions:\n",
    "        pi[s][a]=0\n",
    "        transitions = np.reshape(env.transitions[a][s][:],(-1,1))\n",
    "        rewards = np.reshape(env.rewards[a][s][:],(-1,1))\n",
    "        q[a]=np.sum(np.multiply(transitions,rewards)+ gamma * np.multiply(transitions,V))\n",
    "    action=np.argmax(q)        #Choose greedy action\n",
    "    pi[s][action]=1            #Update Policy\n",
    "\n",
    "\n",
    "#Policy Improvement step\n",
    "def improve_policy(env, V, pi, gamma):\n",
    "    policy_stable = True        # If policy_stable == True : Policy need not be updated anymore\n",
    "    for s in env.states:\n",
    "        old = pi[s].copy()\n",
    "        choose_best_action(env, V, pi, s, gamma)\n",
    "        if not np.array_equal(pi[s], old): \n",
    "            policy_stable = False\n",
    "    return pi, policy_stable\n",
    "\n",
    "#Policy Iteration\n",
    "def policy_iteration(env, gamma, theta):\n",
    "    V = np.zeros((env.num_state,1))          #Initialize Value function vector : [0,0,0...0]\n",
    "    pi = np.ones((env.num_state,env.num_action)) / env.num_action   #Policy Initialization\n",
    "    policy_stable = False\n",
    "    while not policy_stable:\n",
    "        V = evaluate_policy(env, pi, gamma, theta)          #Policy Evaluation step\n",
    "        pi, policy_stable = improve_policy(env, V, pi, gamma)  #Policy Iteration step\n",
    "    return V, pi"
   ]
  },
  {
   "cell_type": "code",
   "execution_count": 605,
   "metadata": {},
   "outputs": [],
   "source": [
    "def evaluate_q(env, pi, gamma, V):\n",
    "    Q = np.zeros((env.num_state,env.num_action))\n",
    "    for s in env.states:\n",
    "        for a in env.actions:\n",
    "            transitions = np.reshape(env.transitions[a][s][:],(-1,1))\n",
    "            rewards = np.reshape(env.rewards[a][s][:],(-1,1))\n",
    "            Q[s][a] = np.sum(np.multiply(transitions,rewards)+ gamma * np.multiply(transitions,V))\n",
    "    return Q"
   ]
  },
  {
   "cell_type": "code",
   "execution_count": 606,
   "metadata": {},
   "outputs": [],
   "source": [
    "def trpo_simplex(env,delta,gamma,EPS,rho,num_iterations):\n",
    "    history = []\n",
    "    pi = np.ones((env.num_state,env.num_action)) / env.num_action   #Policy Initialization\n",
    "    \n",
    "    \n",
    "    r = list(rho)\n",
    "    r_1 = []\n",
    "    for i in range(0,env.num_action):\n",
    "        r_1 = r_1+r\n",
    "    rho_1 = np.transpose(np.reshape(r_1,(env.num_action,env.num_state)))\n",
    "    rho_1 = np.reshape(rho_1,(1,-1))[0]\n",
    "    \n",
    "    \n",
    "    for i in range(num_iterations):\n",
    "        V = evaluate_policy(env, pi, gamma, theta)\n",
    "        Q_value = evaluate_q(env, pi, gamma, V)\n",
    "        history.append(np.mean(V))\n",
    "        \n",
    "        Advantage = Q_value-V\n",
    "        Advantage_vector = np.reshape(Advantage,(1,-1))[0]\n",
    "       \n",
    "        \n",
    "        \n",
    "        '''\n",
    "        c\n",
    "        '''\n",
    "        x = np.multiply(rho_1,Advantage_vector)\n",
    "        x = list(x) + list(np.zeros(env.num_state*env.num_action))\n",
    "        c = -np.array(x)\n",
    "        \n",
    "        '''\n",
    "        A_ub\n",
    "        '''\n",
    "        g_1 = [np.array(list(np.zeros(env.num_state*env.num_action)) + list(np.ones(env.num_state*env.num_action)))]\n",
    "        \n",
    "        g_21 = np.identity(env.num_state*env.num_action)\n",
    "        g_22 = -np.identity(env.num_state*env.num_action)\n",
    "        \n",
    "        g_2 = list(np.concatenate((g_21,g_22),axis=1))\n",
    "        \n",
    "        g_31 = -np.identity(env.num_state*env.num_action)\n",
    "        g_32 = -np.identity(env.num_state*env.num_action)\n",
    "        \n",
    "        g_3 = list(np.concatenate((g_31,g_32),axis=1))\n",
    "        I = -np.identity(2*env.num_state*env.num_action)\n",
    "\n",
    "        A_ub = np.concatenate((np.array(g_1+g_2+g_3),I),axis=0)\n",
    "        \n",
    "        '''\n",
    "        b_ub\n",
    "        '''\n",
    "        pi_1 = np.reshape(pi,(1,-1))[0]\n",
    "        b_ub = np.array([delta]+list(pi_1)+list(-pi_1)+list(np.zeros(2*env.num_state*env.num_action)))\n",
    "        \n",
    "        \n",
    "        \n",
    "        '''\n",
    "        b_eq\n",
    "        '''\n",
    "        b_eq = np.ones(env.num_state)\n",
    "        \n",
    "        '''\n",
    "        A_eq\n",
    "        '''\n",
    "        A = []\n",
    "        I = np.identity(env.num_state*env.num_action)\n",
    "        for s in env.states:\n",
    "            x = 0\n",
    "            for a in range(s*env.num_action,s*env.num_action+env.num_action):\n",
    "                \n",
    "                x += I[a]\n",
    "            \n",
    "            A.append(np.array(list(x)+list(np.zeros(env.num_state*env.num_action))))\n",
    "        A_eq =  np.array(A) \n",
    "        \n",
    " \n",
    "        res = scipy.optimize.linprog(c, A_ub=A_ub, b_ub=b_ub, A_eq=A_eq, b_eq=b_eq,method='simplex')\n",
    "        pi = res['x'][:env.num_state*env.num_action]\n",
    "        pi = np.reshape(pi,(env.num_state,env.num_action))\n",
    "        \n",
    "    return history\n"
   ]
  },
  {
   "cell_type": "code",
   "execution_count": 607,
   "metadata": {},
   "outputs": [],
   "source": [
    "\n",
    "s=5\n",
    "a=3\n",
    "env= MarkovDP(s,a)      #Define an MDP Environment : Insantiate Class\n",
    "env.initialize_mdp()    #Define P and R\n",
    "\n"
   ]
  },
  {
   "cell_type": "code",
   "execution_count": 608,
   "metadata": {},
   "outputs": [],
   "source": [
    "gamma = 0.9\n",
    "EPS = 0.0001\n",
    "delta = 0.9\n",
    "num_iterations=100\n",
    "np.random.seed(0)\n",
    "rho = np.random.rand(env.num_state)\n",
    "rho = rho/np.sum(rho)"
   ]
  },
  {
   "cell_type": "code",
   "execution_count": 609,
   "metadata": {},
   "outputs": [],
   "source": [
    "history = trpo_simplex(env,delta,gamma,EPS,rho,num_iterations)"
   ]
  },
  {
   "cell_type": "code",
   "execution_count": 610,
   "metadata": {},
   "outputs": [],
   "source": [
    "V_optimal_policy,pi_optimal_policy=policy_iteration(env, gamma, EPS)\n",
    "\n"
   ]
  },
  {
   "cell_type": "code",
   "execution_count": 611,
   "metadata": {},
   "outputs": [
    {
     "data": {
      "text/plain": [
       "6.932722263120631"
      ]
     },
     "execution_count": 611,
     "metadata": {},
     "output_type": "execute_result"
    }
   ],
   "source": [
    "np.mean(V_optimal_policy)"
   ]
  },
  {
   "cell_type": "code",
   "execution_count": 612,
   "metadata": {},
   "outputs": [
    {
     "data": {
      "text/plain": [
       "6.932722263120631"
      ]
     },
     "execution_count": 612,
     "metadata": {},
     "output_type": "execute_result"
    }
   ],
   "source": [
    "history[-1]"
   ]
  },
  {
   "cell_type": "code",
   "execution_count": 613,
   "metadata": {},
   "outputs": [],
   "source": [
    "def plot_log(history):\n",
    "    \n",
    "    y=history\n",
    "    x=np.array(range(1,len(history)+1))\n",
    "    plt.tick_params(axis='y',labelsize=9)\n",
    "    plt.tick_params(axis='x',labelsize=9)\n",
    "    plt.xlabel('Iterations', fontsize=12)\n",
    "    plt.ylabel('V_rho', fontsize=12)\n",
    "    plt.plot(x,y,color='blue', label='TRPO_Simplex') \n",
    "    plt.title('100x3 MDP delta=0.9',fontsize=12)\n",
    "    fig_size=(10,7)\n",
    "    plt.rcParams[\"figure.figsize\"] = fig_size\n",
    "    plt.legend(loc='best') \n",
    "    plt.show()"
   ]
  },
  {
   "cell_type": "code",
   "execution_count": 614,
   "metadata": {},
   "outputs": [
    {
     "data": {
      "image/png": "[encoded data removed]",
      "text/plain": [
       "<Figure size 720x504 with 1 Axes>"
      ]
     },
     "metadata": {},
     "output_type": "display_data"
    }
   ],
   "source": [
    "plot_log(history)"
   ]
  }
 ],
 "metadata": {
  "kernelspec": {
   "display_name": "Python 3",
   "language": "python",
   "name": "python3"
  },
  "language_info": {
   "codemirror_mode": {
    "name": "ipython",
    "version": 3
   },
   "file_extension": ".py",
   "mimetype": "text/x-python",
   "name": "python",
   "nbconvert_exporter": "python",
   "pygments_lexer": "ipython3",
   "version": "3.6.10"
  }
 },
 "nbformat": 4,
 "nbformat_minor": 4
}
