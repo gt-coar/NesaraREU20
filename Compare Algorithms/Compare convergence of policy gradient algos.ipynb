{
 "cells": [
  {
   "cell_type": "markdown",
   "metadata": {},
   "source": [
    "# Comparing the Convergence of various Policy gradient algorithms"
   ]
  },
  {
   "cell_type": "code",
   "execution_count": 1,
   "metadata": {},
   "outputs": [
    {
     "name": "stdout",
     "output_type": "stream",
     "text": [
      "Requirement already satisfied: pymdptoolbox in /opt/anaconda3/envs/ComputerVision/lib/python3.7/site-packages (4.0b3)\n",
      "Requirement already satisfied: scipy in /opt/anaconda3/envs/ComputerVision/lib/python3.7/site-packages (from pymdptoolbox) (1.4.1)\n",
      "Requirement already satisfied: numpy in /opt/anaconda3/envs/ComputerVision/lib/python3.7/site-packages (from pymdptoolbox) (1.18.1)\n"
     ]
    }
   ],
   "source": [
    "!pip install pymdptoolbox   #Install pymdptoolbox within the code"
   ]
  },
  {
   "cell_type": "markdown",
   "metadata": {},
   "source": [
    "## Import libraries"
   ]
  },
  {
   "cell_type": "code",
   "execution_count": 1,
   "metadata": {},
   "outputs": [],
   "source": [
    "import mdptoolbox.example\n",
    "import numpy as np\n",
    "import sys\n",
    "import time\n",
    "import warnings\n",
    "import matplotlib.pyplot as plt\n",
    "from cvxopt import matrix, solvers\n",
    "import os\n",
    "import seaborn as sns\n",
    "sns.set()\n",
    "warnings.filterwarnings('ignore')"
   ]
  },
  {
   "cell_type": "code",
   "execution_count": 2,
   "metadata": {},
   "outputs": [],
   "source": [
    "class HiddenPrints:       #To suppress print statements during execution of library function\n",
    "    def __enter__(self):\n",
    "        self._original_stdout = sys.stdout\n",
    "        sys.stdout = open(os.devnull, 'w')\n",
    "\n",
    "    def __exit__(self, exc_type, exc_val, exc_tb):\n",
    "        sys.stdout.close()\n",
    "        sys.stdout = self._original_stdout"
   ]
  },
  {
   "cell_type": "markdown",
   "metadata": {},
   "source": [
    "## Class MDP"
   ]
  },
  {
   "cell_type": "code",
   "execution_count": 40,
   "metadata": {},
   "outputs": [],
   "source": [
    "'''\n",
    "Class MarkovDP contains the following attributes:\n",
    "1)Number of states  : s\n",
    "2)Number of actions : a\n",
    "3)State Space\n",
    "4)Action Space\n",
    "5)Transition probability matrix of size (a,s,s)\n",
    "6)Reward matrix (a,s,s)\n",
    "'''\n",
    "class MarkovDP:\n",
    "    def __init__(self,s,a):\n",
    "        self.num_state             = s\n",
    "        self.num_action            = a\n",
    "        self.states                = np.array(range(0,s))\n",
    "        self.actions               = np.array(range(0,a))\n",
    "        self.transitions           = np.zeros((a,s,s))\n",
    "        self.rewards               = np.zeros((a,s,s))\n",
    "        \n",
    "# The function below initializes transition probability matrix and rewards marks \n",
    "\n",
    "    def initialize_mdp(self):      \n",
    "        np.random.seed(0)        #for reproducibility \n",
    "        self.transitions, self.rewards = mdptoolbox.example.rand(self.num_state,self.num_action)\n",
    "        self.rewards = np.random.rand(self.num_action,self.num_state,self.num_state)"
   ]
  },
  {
   "cell_type": "markdown",
   "metadata": {},
   "source": [
    "## Utility Functions"
   ]
  },
  {
   "cell_type": "code",
   "execution_count": 65,
   "metadata": {},
   "outputs": [],
   "source": [
    "def softmax(env,theta,phi):\n",
    "    pi = np.zeros((env.num_state,env.num_action),dtype=float)\n",
    "    for s in env.states:\n",
    "        for a in env.actions:\n",
    "            pi[s][a]=np.exp(np.dot(np.array(phi[s][a]),theta))\n",
    "        pi[s]=pi[s]/np.sum(pi[s])\n",
    "    return np.array(pi)\n",
    "\n",
    "def P_matrix(env,pi):\n",
    "    # Compute Transition probabilities P(s,s') using P(s'| s,a ) and pi( a|s ) : Matrix of size |s| x |s|\n",
    "    P=np.empty((env.num_state,env.num_state),dtype=float)\n",
    "    P=np.multiply(np.reshape(pi[:,0],(-1,1)),env.transitions[0][:][:])\n",
    "    for a in range(1,env.num_action):\n",
    "        P=P+np.multiply(np.reshape(pi[:,a],(-1,1)),env.transitions[a][:][:])\n",
    "    return P\n",
    "        \n",
    "def d_pi_s(env,P,gamma,s):\n",
    "    e_s=np.zeros((env.num_state,1))\n",
    "    e_s[s]=1\n",
    "    i= np.identity(env.num_state)- gamma*(P)\n",
    "    d= (1-gamma) * np.dot(np.linalg.inv(i),e_s)\n",
    "    return d\n",
    "\n",
    "def softmax_normal(env,pi_theta):\n",
    "    pi = np.zeros((env.num_state,env.num_action),dtype=float)\n",
    "    for s in env.states:\n",
    "        pi[s]=np.exp(pi_theta[s])\n",
    "        pi[s]=pi[s]/np.sum(pi[s])\n",
    "    return np.array(pi)"
   ]
  },
  {
   "cell_type": "code",
   "execution_count": 42,
   "metadata": {},
   "outputs": [],
   "source": [
    "# Policy Evaluation Function\n",
    "def evaluate_policy(env, pi, gamma, theta):\n",
    "    V = np.zeros((env.num_state,1))\n",
    "    while True:\n",
    "        delta = 0\n",
    "        for s in env.states:\n",
    "            v = V[s].copy()\n",
    "            V=update_v_policy(env, V, pi, s, gamma)    #bellman update \n",
    "            delta = max(delta, abs(v - V[s]))\n",
    "        if delta < theta:\n",
    "            break\n",
    "    return V\n",
    "\n",
    "\n",
    "# Bellman Update function\n",
    "def update_v_policy(env, V, pi, s, gamma):\n",
    "    sum=0\n",
    "    for a in env.actions:\n",
    "        transitions = np.reshape(env.transitions[a][s][:],(-1,1))\n",
    "        rewards = np.reshape(env.rewards[a][s][:],(-1,1))\n",
    "        sum=sum+pi[s][a]*(np.sum(np.multiply(transitions,(rewards+(gamma*V)))))\n",
    "    V[s]=sum\n",
    "    return V\n",
    "\n",
    "# Function that chooses the greedy action for a particular state 's'\n",
    "def choose_best_action(env, V, pi, s, gamma):\n",
    "    q=np.empty((env.num_action,1),dtype=float)\n",
    "    for a in env.actions:\n",
    "        pi[s][a]=0\n",
    "        transitions = np.reshape(env.transitions[a][s][:],(-1,1))\n",
    "        rewards = np.reshape(env.rewards[a][s][:],(-1,1))\n",
    "        q[a]=np.sum(np.multiply(transitions,rewards)+ gamma * np.multiply(transitions,V))\n",
    "    action=np.argmax(q)        #Choose greedy action\n",
    "    pi[s][action]=1            #Update Policy\n",
    "\n",
    "\n",
    "#Policy Improvement step\n",
    "def improve_policy(env, V, pi, gamma):\n",
    "    policy_stable = True        # If policy_stable == True : Policy need not be updated anymore\n",
    "    for s in env.states:\n",
    "        old = pi[s].copy()\n",
    "        choose_best_action(env, V, pi, s, gamma)\n",
    "        if not np.array_equal(pi[s], old): \n",
    "            policy_stable = False\n",
    "    return pi, policy_stable\n",
    "\n",
    "#Policy Iteration\n",
    "def policy_iteration(env, gamma, theta):\n",
    "    V = np.zeros((env.num_state,1))          #Initialize Value function vector : [0,0,0...0]\n",
    "    pi = np.ones((env.num_state,env.num_action)) / env.num_action   #Policy Initialization\n",
    "    policy_stable = False\n",
    "    while not policy_stable:\n",
    "        V = evaluate_policy(env, pi, gamma, theta)          #Policy Evaluation step\n",
    "        pi, policy_stable = improve_policy(env, V, pi, gamma)  #Policy Iteration step\n",
    "    return V, pi"
   ]
  },
  {
   "cell_type": "code",
   "execution_count": 43,
   "metadata": {},
   "outputs": [],
   "source": [
    "def evaluate_q(env, pi, gamma, V):\n",
    "    Q = np.zeros((env.num_state,env.num_action))\n",
    "    for s in env.states:\n",
    "        for a in env.actions:\n",
    "            transitions = np.reshape(env.transitions[a][s][:],(-1,1))\n",
    "            rewards = np.reshape(env.rewards[a][s][:],(-1,1))\n",
    "            Q[s][a] = np.sum(np.multiply(transitions,rewards)+ gamma * np.multiply(transitions,V))\n",
    "    return Q"
   ]
  },
  {
   "cell_type": "code",
   "execution_count": 44,
   "metadata": {},
   "outputs": [],
   "source": [
    "def phi_tilde(env,pi,phi,s):\n",
    "    phi_s=np.zeros(d)  #np.zeros replacee\n",
    "    for a in env.actions:\n",
    "        phi_s = phi_s+phi[s][a]*pi[s][a]\n",
    "    #print(phi_s)\n",
    "    return phi_s\n",
    "    "
   ]
  },
  {
   "cell_type": "code",
   "execution_count": 45,
   "metadata": {},
   "outputs": [],
   "source": [
    "def policy(s,a):\n",
    "    pi = np.ones((s,a)) / a   #Policy Initialization\n",
    "    return pi   "
   ]
  },
  {
   "cell_type": "code",
   "execution_count": 46,
   "metadata": {},
   "outputs": [],
   "source": [
    "def projection(env,x):\n",
    "    P = 2*matrix(np.identity(env.num_action))\n",
    "    q = -2*matrix(x)\n",
    "    G = -1*matrix(np.identity(env.num_action))\n",
    "    h = matrix(np.zeros(env.num_action))\n",
    "    A = matrix(np.ones(env.num_action), (1,env.num_action))\n",
    "    b = matrix(1.0)\n",
    "    with HiddenPrints():\n",
    "        sol=solvers.qp(P, q, G, h, A, b)\n",
    "    proj= np.reshape(np.array(sol['x']),(1,-1))\n",
    "    return proj\n"
   ]
  },
  {
   "cell_type": "markdown",
   "metadata": {},
   "source": [
    "## Direct param"
   ]
  },
  {
   "cell_type": "code",
   "execution_count": 47,
   "metadata": {},
   "outputs": [],
   "source": [
    "def grad(env,gamma,rho,pi,theta):\n",
    "    V_grad= np.empty((env.num_state,env.num_action),dtype=float)\n",
    "    P=P_matrix(env,pi)\n",
    "    V=evaluate_policy(env, pi, gamma, theta)\n",
    "    for s in env.states:\n",
    "        d=d_pi_s(env,P,gamma,s)\n",
    "        d_rho= np.dot(rho,d)\n",
    "        for a in env.actions:\n",
    "            transitions = np.reshape(env.transitions[a][s][:],(-1,1))\n",
    "            rewards = np.reshape(env.rewards[a][s][:],(-1,1))\n",
    "            q=np.sum(np.multiply(transitions,rewards)+ gamma * np.multiply(transitions,V))\n",
    "            V_grad[s][a]= (d_rho*q)/(1-gamma)\n",
    "    \n",
    "    return V_grad\n",
    "            \n",
    "        "
   ]
  },
  {
   "cell_type": "code",
   "execution_count": 48,
   "metadata": {},
   "outputs": [],
   "source": [
    "def policy_gradient(env,gamma,EPS,rho,iterations,learning_rate,V_rho_optimal):\n",
    "    pi = np.ones((env.num_state,env.num_action)) / env.num_action   #Policy Initialization\n",
    "    V = np.zeros((env.num_state,1))          #Initialize Value function vector : [0,0,0...0]\n",
    "    min_t = V_rho_optimal\n",
    "    min_list=list()\n",
    "    history =list()\n",
    "    for i in range(0,iterations):\n",
    "        V_grad=grad(env,gamma,rho,pi,theta)\n",
    "        for s in env.states:\n",
    "            pi_update= pi[s]+ learning_rate * V_grad[s]\n",
    "            pi[s]= projection(env,pi_update) \n",
    "        V=evaluate_policy(env, pi, gamma, EPS) \n",
    "        history.append(np.dot(rho,V)[0])\n",
    "        min_t=min(min_t,(V_rho_optimal-np.dot(rho,V)[0]))\n",
    "        min_list.append(min_t)\n",
    "    return min_list,history\n",
    "        "
   ]
  },
  {
   "cell_type": "markdown",
   "metadata": {},
   "source": [
    "## Softmax param"
   ]
  },
  {
   "cell_type": "code",
   "execution_count": 115,
   "metadata": {},
   "outputs": [],
   "source": [
    "def grad_softmax(env,gamma,rho,pi_theta,theta):\n",
    "    V_grad = np.zeros((env.num_state,env.num_action))\n",
    "    pi = softmax_normal(env,pi_theta)\n",
    "    #print(pi)\n",
    "    P = P_matrix(env,pi)\n",
    "    V = evaluate_policy(env, pi, gamma, theta)\n",
    "    #print(V_grad[0][1])\n",
    "    for s in range(0,env.num_state):\n",
    "        d=d_pi_s(env,P,gamma,s)\n",
    "        d_rho= np.dot(rho,d)\n",
    "        for a in range(0,env.num_action):\n",
    "            transitions = np.reshape(env.transitions[a][s][:],(-1,1))\n",
    "            rewards = np.reshape(env.rewards[a][s][:],(-1,1))\n",
    "            q=np.sum(np.multiply(transitions,rewards)+ gamma * np.multiply(transitions,V))\n",
    "            advantage=q-V[s]\n",
    "            V_grad[s][a]= (d_rho*advantage*pi[s][a])/(1-gamma)\n",
    "    \n",
    "    \n",
    "    return V_grad\n",
    "            \n",
    "        "
   ]
  },
  {
   "cell_type": "code",
   "execution_count": 116,
   "metadata": {},
   "outputs": [],
   "source": [
    "def policy_gradient_constant_step(env,gamma,EPS,rho,iterations,learning_rate,V_rho_optimal):\n",
    "    pi_theta = np.ones((env.num_state,env.num_action)) / env.num_action   #Policy Initialization\n",
    "    V = np.zeros((env.num_state,1))          #Initialize Value function vector : [0,0,0...0]\n",
    "    min_t = V_rho_optimal\n",
    "    min_list=list()\n",
    "    history = list()\n",
    "    for i in range(0,iterations):\n",
    "        V_grad=grad_softmax(env,gamma,rho,pi_theta,EPS)\n",
    "        for s in env.states:\n",
    "            pi_theta[s]= pi_theta[s]+ learning_rate * V_grad[s]\n",
    "        pi = softmax_normal(env,pi_theta)\n",
    "        V=evaluate_policy(env, pi, gamma, EPS)\n",
    "        #print(V_grad)\n",
    "        history.append(np.dot(rho,V)[0])\n",
    "        min_t=min(min_t,(V_rho_optimal-np.dot(rho,V)[0]))\n",
    "        min_list.append(min_t)\n",
    "    return min_list,history\n",
    "        "
   ]
  },
  {
   "cell_type": "markdown",
   "metadata": {},
   "source": [
    "## NPG Softmax"
   ]
  },
  {
   "cell_type": "code",
   "execution_count": 95,
   "metadata": {},
   "outputs": [],
   "source": [
    "def softmax_npg(env,gamma,EPS,rho,iterations,V_rho_optimal,step_size):\n",
    "    start_time = time.time()\n",
    "    pi = np.ones((env.num_state,env.num_action)) / env.num_action\n",
    "    min_t = V_rho_optimal\n",
    "    min_list=list()\n",
    "    history = list()\n",
    "    learning_rate = 1\n",
    "    for i in range(0,iterations):\n",
    "        V = evaluate_policy(env, pi, gamma, EPS)\n",
    "        Q = evaluate_q(env, pi, gamma, V)\n",
    "        A = Q-V\n",
    "        X=np.empty((env.num_state,env.num_action),dtype=float)\n",
    "        for s in env.states:\n",
    "            for a in env.actions:\n",
    "                X[s][a]= np.exp(step_size*A[s][a]/(1-gamma))\n",
    "            X[s]=X[s]/np.sum(np.multiply(X[s],pi[s]))\n",
    "        pi=np.multiply(pi,X)\n",
    "        V=evaluate_policy(env, pi, gamma, EPS)\n",
    "        history.append(V)\n",
    "        min_t=min(min_t,(V_rho_optimal-np.dot(rho,V)[0]))\n",
    "        min_list.append(min_t)\n",
    "    \n",
    "    return min_list,history\n",
    " "
   ]
  },
  {
   "cell_type": "markdown",
   "metadata": {},
   "source": [
    "## Policy grad with function approx"
   ]
  },
  {
   "cell_type": "code",
   "execution_count": 52,
   "metadata": {},
   "outputs": [],
   "source": [
    "def policygradient_funapprox(env,gamma,phi,step_size,iterations,d,EPS,rho,V_rho_optimal):\n",
    "    theta = np.zeros((d,1))\n",
    "    w  = np.zeros((d,1))\n",
    "    min_t = V_rho_optimal\n",
    "    min_list=list()\n",
    "    history = list()\n",
    "    for i in range(0,iterations):\n",
    "        pi = softmax(env,theta,phi)\n",
    "        #print(pi)\n",
    "        P = P_matrix(env,pi)\n",
    "        V = evaluate_policy(env, pi, gamma, EPS)\n",
    "        Q_pi = evaluate_q(env, pi, gamma, V)\n",
    "        d_rho = np.zeros((env.num_state,1))\n",
    "        for s in env.states:\n",
    "            d_s = d_pi_s(env,P,gamma,s)\n",
    "            d_rho = d_rho+ rho[s]*d_s \n",
    "    \n",
    "        b= np.zeros((d,1))\n",
    "        A= np.zeros((d,d))\n",
    "        theta_u = np.zeros((d,1))\n",
    "        for s in env.states:\n",
    "            phi_tilde_s = phi_tilde(env,pi,phi,s)\n",
    "            for a in env.actions:\n",
    "                phi_t = (phi[s][a]-phi_tilde_s)\n",
    "                #print(np.dot(phi_t,np.transpose(w)[0]))\n",
    "                dfw = phi_t * pi[s][a]\n",
    "                theta_u = theta_u + d_rho[s]* np.reshape(dfw,(d,1)) * np.dot(phi_t,np.transpose(w)[0])\n",
    "                b = b + d_rho[s]* np.reshape(dfw,(d,1)) * Q_pi[s][a]\n",
    "                x = d_rho[s] * dfw\n",
    "                for j in range(0,d):\n",
    "                    #print(j)\n",
    "                    A[j] = A[j] + x*phi_t[j]\n",
    "        #print(A)\n",
    "        #print(b)\n",
    "        w = np.dot(np.linalg.inv(A),b)\n",
    "        #print(w)\n",
    "        theta = theta +  step_size*theta_u\n",
    "        V=evaluate_policy(env, pi, gamma, EPS)\n",
    "        history.append(np.dot(rho,V)[0])\n",
    "        min_t=min(min_t,(V_rho_optimal-np.dot(rho,V)[0]))\n",
    "        min_list.append(min_t)\n",
    "        #print(theta)\n",
    "    return min_list,history\n",
    "   "
   ]
  },
  {
   "cell_type": "markdown",
   "metadata": {},
   "source": [
    "## NPG function approx\n"
   ]
  },
  {
   "cell_type": "code",
   "execution_count": 53,
   "metadata": {},
   "outputs": [],
   "source": [
    "def argmin_wt(Q,p,d):\n",
    "    Q = 2*matrix(Q)\n",
    "    p = matrix(p)\n",
    "    with HiddenPrints():\n",
    "        sol=solvers.qp(Q,p)\n",
    "    wt= np.array(sol['x'])\n",
    "    return wt\n"
   ]
  },
  {
   "cell_type": "code",
   "execution_count": 74,
   "metadata": {},
   "outputs": [],
   "source": [
    "def npg_funapprox(env,gamma,phi,EPS,rho,step_size,iterations,d,V_rho_optimal):\n",
    "    theta = np.zeros((d,1))\n",
    "    min_t = V_rho_optimal\n",
    "    min_list=list()\n",
    "    history=list()\n",
    "    for i in range(0,iterations):\n",
    "        pi = softmax(env,theta,phi)\n",
    "        P = P_matrix(env,pi)\n",
    "        V = evaluate_policy(env, pi, gamma, EPS)\n",
    "        Q_pi = evaluate_q(env, pi, gamma, V)\n",
    "        A = Q_pi-V\n",
    "        Q = np.zeros((d,d))\n",
    "        p = np.zeros(d)\n",
    "        #print(p)\n",
    "        d_rho = np.zeros((env.num_state,1))\n",
    "        for s in env.states:\n",
    "            d_s = d_pi_s(env,P,gamma,s)\n",
    "            d_rho = d_rho+ rho[s]*d_s\n",
    "        for s in env.states:\n",
    "            phi_tilde_s = phi_tilde(env,pi,phi,s)\n",
    "            for a in env.actions:\n",
    "                phi_t = (phi[s][a]-phi_tilde_s)\n",
    "                phi_t = np.reshape(phi_t,(1,d))\n",
    "                phi_t_t = np.reshape(phi_t,(d,1))\n",
    "                Q = Q+ (d_rho[s]*pi[s][a]*np.dot(phi_t_t,phi_t))\n",
    "                phi_t = (phi[s][a]-phi_tilde_s)\n",
    "                p = p+ (-2*A[s][a]*d_rho[s][0]*pi[s][a]*phi_t)\n",
    "        wt = argmin_wt(Q,p,d)\n",
    "        #print(A)\n",
    "        theta = theta + step_size*wt\n",
    "        V=evaluate_policy(env, pi, gamma, EPS) \n",
    "        history.append(np.dot(rho,V)[0])\n",
    "        min_t=min(min_t,(V_rho_optimal-np.dot(rho,V)[0]))\n",
    "        min_list.append(min_t)\n",
    "        #print(softmax(env,theta,phi))\n",
    "    return min_list,history "
   ]
  },
  {
   "cell_type": "markdown",
   "metadata": {},
   "source": [
    "## Plot"
   ]
  },
  {
   "cell_type": "code",
   "execution_count": 120,
   "metadata": {},
   "outputs": [],
   "source": [
    "def plot_log(min_list1,min_list2,min_list3,min_list4,min_list5,iterations):\n",
    "    \n",
    "    x=np.log(np.array(range(0,iterations))+1)\n",
    "    y1=np.log(np.array(min_list1)[:])\n",
    "    y2=np.log(np.array(min_list2)[:])\n",
    "    y3=np.log(np.array(min_list3)[:])\n",
    "    y4=np.log(np.array(min_list4)[:])\n",
    "    y5=np.log(np.array(min_list5)[:])\n",
    "    plt.tick_params(axis='y',labelsize=9)\n",
    "    plt.tick_params(axis='x',labelsize=9)\n",
    "    plt.xlabel('log(t)', fontsize=12)\n",
    "    plt.ylabel('log(min(V_opt-V(t)))', fontsize=12)\n",
    "    plt.plot(x,y1, label='Direct param ') \n",
    "    plt.plot(x,y2, label='Soft param') \n",
    "    plt.plot(x,y3, label='npg softparam') \n",
    "    plt.plot(x,y4, label='function approx') \n",
    "    plt.plot(x,y5, label='npg function approx') \n",
    "    plt.title('50x2 mdp, step size=0.3,dim(phi=10)',fontsize=12)\n",
    "    fig_size=(10,7)\n",
    "    plt.rcParams[\"figure.figsize\"] = fig_size\n",
    "    plt.legend(loc='best') \n",
    "    plt.show()"
   ]
  },
  {
   "cell_type": "code",
   "execution_count": 56,
   "metadata": {},
   "outputs": [],
   "source": [
    "'''\n",
    "Define an MDP Environment : Insantiate Class\n",
    "    Number of states : s\n",
    "    Number of actions : a\n",
    "'''\n",
    "\n",
    "s=50\n",
    "a=2\n",
    "d=10\n",
    "env= MarkovDP(s,a)      #Define an MDP Environment : Insantiate Class\n",
    "np.random.seed(0)\n",
    "env.initialize_mdp()    #Define P and R\n",
    "phi = np.random.rand(env.num_state,env.num_action,d) #d=2"
   ]
  },
  {
   "cell_type": "code",
   "execution_count": 57,
   "metadata": {},
   "outputs": [
    {
     "name": "stdout",
     "output_type": "stream",
     "text": [
      "--- 0.33742332458496094 seconds ---\n"
     ]
    }
   ],
   "source": [
    "gamma = 0.9       #Discount rate\n",
    "EPS = 0.0001    #A small positive number\n",
    "rho= np.ones(env.num_state)/env.num_state\n",
    "start_time = time.time()\n",
    "V_optimal_policy,pi_optimal_policy=policy_iteration(env, gamma, EPS)\n",
    "print(\"--- %s seconds ---\" % (time.time() - start_time))"
   ]
  },
  {
   "cell_type": "code",
   "execution_count": 58,
   "metadata": {},
   "outputs": [],
   "source": [
    "V_rho_optimal = np.dot(rho,V_optimal_policy)[0]"
   ]
  },
  {
   "cell_type": "code",
   "execution_count": 59,
   "metadata": {},
   "outputs": [
    {
     "data": {
      "text/plain": [
       "5.228624210968419"
      ]
     },
     "execution_count": 59,
     "metadata": {},
     "output_type": "execute_result"
    }
   ],
   "source": [
    "V_rho_optimal"
   ]
  },
  {
   "cell_type": "code",
   "execution_count": 61,
   "metadata": {},
   "outputs": [],
   "source": [
    "learning_rate = 0.3\n",
    "iterations =1000\n",
    "\n",
    "min_list1,history1=policy_gradient(env,gamma,EPS,rho,iterations,learning_rate,V_rho_optimal)"
   ]
  },
  {
   "cell_type": "code",
   "execution_count": 117,
   "metadata": {},
   "outputs": [],
   "source": [
    "learning_rate = 0.3\n",
    "iterations =1000\n",
    "\n",
    "min_list2,history2=policy_gradient_constant_step(env,gamma,EPS,rho,iterations,learning_rate,V_rho_optimal)"
   ]
  },
  {
   "cell_type": "code",
   "execution_count": 71,
   "metadata": {},
   "outputs": [],
   "source": [
    "learning_rate = 0.3\n",
    "iterations =1000\n",
    "\n",
    "min_list3,history3=softmax_npg(env,gamma,EPS,rho,iterations,V_rho_optimal,learning_rate)"
   ]
  },
  {
   "cell_type": "code",
   "execution_count": 72,
   "metadata": {},
   "outputs": [],
   "source": [
    "learning_rate = 0.3\n",
    "iterations =1000\n",
    "\n",
    "min_list4,history4=policygradient_funapprox(env,gamma,phi,learning_rate,iterations,d,EPS,rho,V_rho_optimal)"
   ]
  },
  {
   "cell_type": "code",
   "execution_count": 77,
   "metadata": {},
   "outputs": [],
   "source": [
    "learning_rate = 0.3\n",
    "iterations =1000\n",
    "\n",
    "min_list5,history5=npg_funapprox(env,gamma,phi,EPS,rho,learning_rate,iterations,d,V_rho_optimal)"
   ]
  },
  {
   "cell_type": "code",
   "execution_count": 121,
   "metadata": {},
   "outputs": [
    {
     "data": {
      "image/png": "[encoded data removed]",
      "text/plain": [
       "<Figure size 720x504 with 1 Axes>"
      ]
     },
     "metadata": {},
     "output_type": "display_data"
    }
   ],
   "source": [
    "plot_log(min_list1,min_list2,min_list3,min_list4,min_list5,iterations)"
   ]
  },
  {
   "cell_type": "code",
   "execution_count": 122,
   "metadata": {},
   "outputs": [],
   "source": [
    "def plot_history(history1,history2,history3,history4,history5,iterations):\n",
    "    \n",
    "    x=(np.array(range(0,iterations))+1)\n",
    "    y1=(np.array(history1)[:])\n",
    "    y2=(np.array(history2)[:])\n",
    "    y3=(np.array(history3)[:])\n",
    "    y4=(np.array(history4)[:])\n",
    "    y5=(np.array(history5)[:])\n",
    "    plt.tick_params(axis='y',labelsize=9)\n",
    "    plt.tick_params(axis='x',labelsize=9)\n",
    "    plt.xlabel('iterations', fontsize=12)\n",
    "    plt.ylabel('V(rho)', fontsize=12)\n",
    "    plt.plot(x,y1, label='Direct param ') \n",
    "    plt.plot(x,y2, label='Soft param') \n",
    "    plt.plot(x,y3, label='npg softparam') \n",
    "    plt.plot(x,y4, label='function approx') \n",
    "    plt.plot(x,y5, label='npg function approx') \n",
    "    plt.title('50x2 mdp, step size=0.3,dim(phi=10)',fontsize=12)\n",
    "    fig_size=(10,7)\n",
    "    plt.rcParams[\"figure.figsize\"] = fig_size\n",
    "    plt.legend(loc='best') \n",
    "    plt.show()"
   ]
  },
  {
   "cell_type": "code",
   "execution_count": 123,
   "metadata": {},
   "outputs": [
    {
     "data": {
      "image/png": "[encoded data removed]",
      "text/plain": [
       "<Figure size 720x504 with 1 Axes>"
      ]
     },
     "metadata": {},
     "output_type": "display_data"
    }
   ],
   "source": [
    "plot_history(history1,history2,history3,history4,history5,iterations)"
   ]
  },
  {
   "cell_type": "markdown",
   "metadata": {},
   "source": [
    "## Observation"
   ]
  },
  {
   "cell_type": "markdown",
   "metadata": {},
   "source": [
    "- Among all the algorithms studied in this notebook, Natural Policy gradient performs the best. It has the fastest rate of convergence compared to the rest, and also converges to the most accurate value function </br>\n",
    "- There is a significant improvement in the convergence if natural policy gradients are used instead of corresponding vanilla gradients"
   ]
  }
 ],
 "metadata": {
  "kernelspec": {
   "display_name": "Python 3",
   "language": "python",
   "name": "python3"
  },
  "language_info": {
   "codemirror_mode": {
    "name": "ipython",
    "version": 3
   },
   "file_extension": ".py",
   "mimetype": "text/x-python",
   "name": "python",
   "nbconvert_exporter": "python",
   "pygments_lexer": "ipython3",
   "version": "3.7.6"
  }
 },
 "nbformat": 4,
 "nbformat_minor": 4
}
