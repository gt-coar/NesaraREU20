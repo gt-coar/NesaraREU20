{
 "cells": [
  {
   "cell_type": "markdown",
   "metadata": {},
   "source": [
    "## Comparing Mirror and Lazy Mirror descent"
   ]
  },
  {
   "cell_type": "code",
   "execution_count": 1,
   "metadata": {},
   "outputs": [
    {
     "name": "stdout",
     "output_type": "stream",
     "text": [
      "Requirement already satisfied: pymdptoolbox in /opt/anaconda3/envs/ComputerVision/lib/python3.7/site-packages (4.0b3)\n",
      "Requirement already satisfied: scipy in /opt/anaconda3/envs/ComputerVision/lib/python3.7/site-packages (from pymdptoolbox) (1.4.1)\n",
      "Requirement already satisfied: numpy in /opt/anaconda3/envs/ComputerVision/lib/python3.7/site-packages (from pymdptoolbox) (1.18.1)\n"
     ]
    }
   ],
   "source": [
    "!pip install pymdptoolbox   #Install pymdptoolbox within the code"
   ]
  },
  {
   "cell_type": "markdown",
   "metadata": {},
   "source": [
    "## Import Libraries"
   ]
  },
  {
   "cell_type": "code",
   "execution_count": 62,
   "metadata": {},
   "outputs": [],
   "source": [
    "import mdptoolbox.example\n",
    "import numpy as np\n",
    "import sys\n",
    "import time\n",
    "import warnings\n",
    "import matplotlib.pyplot as plt\n",
    "import seaborn as sns\n",
    "import os\n",
    "sns.set()\n",
    "warnings.filterwarnings('ignore')\n",
    "from cvxopt import matrix, solvers"
   ]
  },
  {
   "cell_type": "code",
   "execution_count": 60,
   "metadata": {},
   "outputs": [],
   "source": [
    "class HiddenPrints:       #To suppress print statements during execution of library function\n",
    "    def __enter__(self):\n",
    "        self._original_stdout = sys.stdout\n",
    "        sys.stdout = open(os.devnull, 'w')\n",
    "\n",
    "    def __exit__(self, exc_type, exc_val, exc_tb):\n",
    "        sys.stdout.close()\n",
    "        sys.stdout = self._original_stdout"
   ]
  },
  {
   "cell_type": "markdown",
   "metadata": {},
   "source": [
    "## Class MDP\n"
   ]
  },
  {
   "cell_type": "code",
   "execution_count": 40,
   "metadata": {},
   "outputs": [],
   "source": [
    "'''\n",
    "Class MarkovDP contains the following attributes:\n",
    "1)Number of states  : s\n",
    "2)Number of actions : a\n",
    "3)State Space\n",
    "4)Action Space\n",
    "5)Transition probability matrix of size (a,s,s)\n",
    "6)Reward matrix (a,s,s)\n",
    "'''\n",
    "class MarkovDP:\n",
    "    def __init__(self,s,a):\n",
    "        self.num_state             = s\n",
    "        self.num_action            = a\n",
    "        self.states                = np.array(range(0,s))\n",
    "        self.actions               = np.array(range(0,a))\n",
    "        self.transitions           = np.zeros((a,s,s))\n",
    "        self.rewards               = np.zeros((a,s,s))\n",
    "        self.rewards2              = np.zeros((s,a))\n",
    "        \n",
    "# The function below initializes transition probability matrix and rewards marks \n",
    "\n",
    "    def initialize_mdp(self):      \n",
    "        np.random.seed(0)        #for reproducibility \n",
    "        self.transitions, self.rewards = mdptoolbox.example.rand(self.num_state,self.num_action)\n",
    "        self.rewards2 = np.random.rand(self.num_state,self.num_action)\n",
    "        for a in self.actions:\n",
    "            for s in self.states:\n",
    "                for s1 in self.states:\n",
    "                    self.rewards[a][s][s1] = self.rewards2[s][a]"
   ]
  },
  {
   "cell_type": "markdown",
   "metadata": {},
   "source": [
    "## Utility functions\n"
   ]
  },
  {
   "cell_type": "code",
   "execution_count": 41,
   "metadata": {},
   "outputs": [],
   "source": [
    "# Policy Evaluation Function\n",
    "def evaluate_policy(env, pi, gamma, theta):\n",
    "    V = np.zeros((env.num_state,1))\n",
    "    while True:\n",
    "        delta = 0\n",
    "        for s in env.states:\n",
    "            v = V[s].copy()\n",
    "            V=update_v_policy(env, V, pi, s, gamma)    #bellman update \n",
    "            delta = max(delta, abs(v - V[s]))\n",
    "        if delta < theta:\n",
    "            break\n",
    "    return V\n",
    "\n",
    "\n",
    "# Bellman Update function\n",
    "def update_v_policy(env, V, pi, s, gamma):\n",
    "    sum=0\n",
    "    for a in env.actions:\n",
    "        transitions = np.reshape(env.transitions[a][s][:],(-1,1))\n",
    "        rewards = np.reshape(env.rewards[a][s][:],(-1,1))\n",
    "        sum=sum+pi[s][a]*(np.sum(np.multiply(transitions,(rewards+(gamma*V)))))\n",
    "    V[s]=sum\n",
    "    return V\n",
    "\n",
    "# Function that chooses the greedy action for a particular state 's'\n",
    "def choose_best_action(env, V, pi, s, gamma):\n",
    "    q=np.empty((env.num_action,1),dtype=float)\n",
    "    for a in env.actions:\n",
    "        pi[s][a]=0\n",
    "        transitions = np.reshape(env.transitions[a][s][:],(-1,1))\n",
    "        rewards = np.reshape(env.rewards[a][s][:],(-1,1))\n",
    "        q[a]=np.sum(np.multiply(transitions,rewards)+ gamma * np.multiply(transitions,V))\n",
    "    action=np.argmax(q)        #Choose greedy action\n",
    "    pi[s][action]=1            #Update Policy\n",
    "\n",
    "\n",
    "#Policy Improvement step\n",
    "def improve_policy(env, V, pi, gamma):\n",
    "    policy_stable = True        # If policy_stable == True : Policy need not be updated anymore\n",
    "    for s in env.states:\n",
    "        old = pi[s].copy()\n",
    "        choose_best_action(env, V, pi, s, gamma)\n",
    "        if not np.array_equal(pi[s], old): \n",
    "            policy_stable = False\n",
    "    return pi, policy_stable\n",
    "\n",
    "#Policy Iteration\n",
    "def policy_iteration(env, gamma, theta):\n",
    "    V = np.zeros((env.num_state,1))          #Initialize Value function vector : [0,0,0...0]\n",
    "    pi = np.ones((env.num_state,env.num_action)) / env.num_action   #Policy Initialization\n",
    "    policy_stable = False\n",
    "    while not policy_stable:\n",
    "        V = evaluate_policy(env, pi, gamma, theta)          #Policy Evaluation step\n",
    "        pi, policy_stable = improve_policy(env, V, pi, gamma)  #Policy Iteration step\n",
    "    return V, pi"
   ]
  },
  {
   "cell_type": "code",
   "execution_count": 42,
   "metadata": {},
   "outputs": [],
   "source": [
    "def evaluate_q(env, pi, gamma, V):\n",
    "    Q = np.zeros((env.num_state,env.num_action))\n",
    "    for s in env.states:\n",
    "        for a in env.actions:\n",
    "            transitions = np.reshape(env.transitions[a][s][:],(-1,1))\n",
    "            rewards = np.reshape(env.rewards[a][s][:],(-1,1))\n",
    "            Q[s][a] = np.sum(np.multiply(transitions,rewards)+ gamma * np.multiply(transitions,V))\n",
    "    return Q"
   ]
  },
  {
   "cell_type": "code",
   "execution_count": 43,
   "metadata": {},
   "outputs": [],
   "source": [
    "def P_matrix(env,pi):\n",
    "    \n",
    "    # Compute Transition probabilities P(s,s') using P(s'| s,a ) and pi( a|s ) : Matrix of size |s| x |s|\n",
    "    P=np.empty((env.num_state,env.num_state),dtype=float)\n",
    "    P=np.multiply(np.reshape(pi[:,0],(-1,1)),env.transitions[0][:][:])\n",
    "    for a in range(1,env.num_action):\n",
    "        P=P+np.multiply(np.reshape(pi[:,a],(-1,1)),env.transitions[a][:][:])\n",
    "    return P\n",
    "        "
   ]
  },
  {
   "cell_type": "code",
   "execution_count": 44,
   "metadata": {},
   "outputs": [],
   "source": [
    "def C_pi(env,pi):\n",
    "    C = np.sum(np.multiply(env.rewards2,pi),axis=1)\n",
    "    return C"
   ]
  },
  {
   "cell_type": "code",
   "execution_count": 45,
   "metadata": {},
   "outputs": [],
   "source": [
    "def projection(env,x):\n",
    "    P = 2*matrix(np.identity(env.num_action))\n",
    "    q = -2*matrix(x)\n",
    "    G = -1*matrix(np.identity(env.num_action))\n",
    "    h = matrix(np.zeros(env.num_action))\n",
    "    A = matrix(np.ones(env.num_action), (1,env.num_action))\n",
    "    b = matrix(1.0)\n",
    "    with HiddenPrints():\n",
    "        sol=solvers.qp(P, q, G, h, A, b)\n",
    "    proj= np.reshape(np.array(sol['x']),(1,-1))\n",
    "    return proj\n"
   ]
  },
  {
   "cell_type": "markdown",
   "metadata": {},
   "source": [
    "## Lazy MD"
   ]
  },
  {
   "cell_type": "code",
   "execution_count": 78,
   "metadata": {},
   "outputs": [],
   "source": [
    "def lazy_md(env,gamma,theta,rho,iterations,V_rho_optimal,step_size):\n",
    "    start_time = time.time()\n",
    "    pi = np.ones((env.num_state,env.num_action)) / env.num_action #initialize policy : uniform\n",
    "    Q = np.zeros((env.num_state,env.num_action)) #initialize Q value : zero\n",
    "    history=list()\n",
    "    V_history = list()\n",
    "    learning_rate = 1\n",
    "    for i in range(0,iterations):\n",
    "        V = evaluate_policy(env, pi, gamma, theta)\n",
    "        t=(V_rho_optimal-np.dot(rho,V)[0])\n",
    "        V_history.append(np.dot(rho,V)[0])\n",
    "        history.append(t)\n",
    "        Q = Q+evaluate_q(env, pi, gamma, V) \n",
    "        X=np.empty((env.num_state,env.num_action),dtype=float)\n",
    "        for s in env.states:\n",
    "            for a in env.actions:\n",
    "                X[s][a]= np.exp(step_size*Q[s][a])\n",
    "            X[s]=X[s]/np.sum(np.multiply(X[s],pi[s]))\n",
    "        pi=np.multiply(pi,X)\n",
    "        \n",
    "    print('Iterations Completed')\n",
    "    print(\"--- %s seconds ---\" % (time.time() - start_time))\n",
    "    return pi,V_history,history\n",
    " "
   ]
  },
  {
   "cell_type": "markdown",
   "metadata": {},
   "source": [
    "## Mirror Descent : PPG and NE-TRPO Update"
   ]
  },
  {
   "cell_type": "code",
   "execution_count": 123,
   "metadata": {},
   "outputs": [],
   "source": [
    "def ppg_update(env,pi,Q,t_k):\n",
    "    for s in env.states:\n",
    "        pi[s] = pi[s]-t_k*Q[s]\n",
    "        pi[s] = projection(env,pi[s])\n",
    "    return pi"
   ]
  },
  {
   "cell_type": "code",
   "execution_count": 80,
   "metadata": {},
   "outputs": [],
   "source": [
    "def ne_trpo_update(env,pi,Q,t_k):\n",
    "    X=np.empty((env.num_state,env.num_action),dtype=float)\n",
    "    for s in env.states:\n",
    "        for a in env.actions:\n",
    "            X[s][a]= np.exp(-t_k*Q[s][a])\n",
    "        X[s]=X[s]/np.sum(np.multiply(X[s],pi[s]))\n",
    "    pi=np.multiply(pi,X)\n",
    "\n",
    "    return pi"
   ]
  },
  {
   "cell_type": "code",
   "execution_count": 150,
   "metadata": {},
   "outputs": [],
   "source": [
    "def trpo_ppg_cstep(env,gamma,iterations,step_size,V_rho_optimal):\n",
    "    start_time = time.time()\n",
    "    pi = np.ones((env.num_state,env.num_action)) / env.num_action \n",
    "    history=list()\n",
    "    V_history = list()\n",
    "\n",
    "    t_k = step_size\n",
    "    for i in range(0,iterations):\n",
    "        P=P_matrix(env,pi)\n",
    "        C=C_pi(env,pi)\n",
    "        A=np.identity(env.num_state)- (gamma*P)\n",
    "        B=C\n",
    "        V = np.dot(np.linalg.inv(A),B)\n",
    "        t=(V_rho_optimal-np.dot(rho,V))\n",
    "        V_history.append(np.dot(rho,V))\n",
    "        history.append(t)\n",
    "        Q = evaluate_q(env, pi, gamma, V)\n",
    "        pi = ppg_update(env,pi,Q,t_k)\n",
    "    print('Iterations Completed')\n",
    "    print(\"--- %s seconds ---\" % (time.time() - start_time))\n",
    "\n",
    "    return pi,V_history,history\n",
    "        \n",
    "\n",
    "\n"
   ]
  },
  {
   "cell_type": "code",
   "execution_count": 92,
   "metadata": {},
   "outputs": [],
   "source": [
    "def trpo_ne_cstep(env,gamma,iterations,step_size,V_rho_optimal):\n",
    "    start_time = time.time()\n",
    "    pi = np.ones((env.num_state,env.num_action)) / env.num_action\n",
    "    history=list()\n",
    "    V_history = list()\n",
    "    \n",
    "    t_k = -step_size\n",
    "    for i in range(0,iterations):\n",
    "        P=P_matrix(env,pi)\n",
    "        C=C_pi(env,pi)\n",
    "        A=np.identity(env.num_state)- (gamma*P)\n",
    "        B=C\n",
    "        V = np.dot(np.linalg.inv(A),B)\n",
    "        V_history.append(np.dot(rho,V))\n",
    "        t=(V_rho_optimal-np.dot(rho,V))\n",
    "        history.append(t)\n",
    "        Q = evaluate_q(env, pi, gamma, V)\n",
    "        pi = ne_trpo_update(env,pi,Q,t_k)\n",
    "    print('Iterations Completed')\n",
    "    print(\"--- %s seconds ---\" % (time.time() - start_time))\n",
    "\n",
    "    return pi,V_history,history\n",
    "\n"
   ]
  },
  {
   "cell_type": "code",
   "execution_count": 151,
   "metadata": {},
   "outputs": [],
   "source": [
    "def trpo_ppg_vstep(env,gamma,iterations,alpha,V_rho_optimal):\n",
    "    start_time = time.time()\n",
    "    pi = np.ones((env.num_state,env.num_action)) / env.num_action  \n",
    "    history=list()\n",
    "    V_history = list()\n",
    "    \n",
    "    t_k = 1\n",
    "    for i in range(0,iterations):\n",
    "        if i==0:\n",
    "            pass\n",
    "        elif i%10==0:\n",
    "            t_k = 1/(np.power(i,alpha))\n",
    "        P=P_matrix(env,pi)\n",
    "        C=C_pi(env,pi)\n",
    "        A=np.identity(env.num_state)- (gamma*P)\n",
    "        B=C\n",
    "        V = np.dot(np.linalg.inv(A),B)\n",
    "        V_history.append(np.dot(rho,V))\n",
    "        t=(V_rho_optimal-np.dot(rho,V))\n",
    "        history.append(t)\n",
    "        Q = evaluate_q(env, pi, gamma, V)\n",
    "        pi = ppg_update(env,pi,Q,t_k)\n",
    "    print('Iterations Completed')\n",
    "    print(\"--- %s seconds ---\" % (time.time() - start_time))\n",
    "\n",
    "    return pi,V_history,history\n",
    "\n",
    "        "
   ]
  },
  {
   "cell_type": "code",
   "execution_count": 133,
   "metadata": {},
   "outputs": [],
   "source": [
    "def trpo_ne_vstep(env,gamma,iterations,alpha,V_rho_optimal):\n",
    "    start_time = time.time()\n",
    "    pi = np.ones((env.num_state,env.num_action)) / env.num_action\n",
    "    history=list()\n",
    "    V_history = list()\n",
    "\n",
    "    t_k = -1 \n",
    "    for i in range(0,iterations):\n",
    "        if i==0:\n",
    "            pass\n",
    "        elif i%10==0:\n",
    "            t_k = -1/(np.power(i,alpha))\n",
    "        P=P_matrix(env,pi)\n",
    "        C=C_pi(env,pi)\n",
    "        A=np.identity(env.num_state)- (gamma*P)\n",
    "        B=C\n",
    "        V = np.dot(np.linalg.inv(A),B)\n",
    "        V_history.append(np.dot(rho,V))\n",
    "        t=(V_rho_optimal-np.dot(rho,V))\n",
    "        history.append(t)\n",
    "        Q = evaluate_q(env, pi, gamma, V)\n",
    "        pi = ne_trpo_update(env,pi,Q,t_k)\n",
    "\n",
    "    print('Iterations Completed')\n",
    "    print(\"--- %s seconds ---\" % (time.time() - start_time))\n",
    "    return pi,V_history,history\n",
    "\n"
   ]
  },
  {
   "cell_type": "markdown",
   "metadata": {},
   "source": [
    "## Example"
   ]
  },
  {
   "cell_type": "code",
   "execution_count": 85,
   "metadata": {},
   "outputs": [],
   "source": [
    "'''\n",
    "Define an MDP Environment : Insantiate Class\n",
    "    Number of states : s\n",
    "    Number of actions : a\n",
    "'''\n",
    "\n",
    "s=50\n",
    "a=2\n",
    "env= MarkovDP(s,a)      #Define an MDP Environment : Insantiate Class\n",
    "env.initialize_mdp()    #Define P and R"
   ]
  },
  {
   "cell_type": "code",
   "execution_count": 86,
   "metadata": {},
   "outputs": [
    {
     "name": "stdout",
     "output_type": "stream",
     "text": [
      "--- 0.2907848358154297 seconds ---\n"
     ]
    }
   ],
   "source": [
    "gamma = 0.9       #Discount rate\n",
    "theta = 0.0001    #A small positive number\n",
    "rho= np.ones(env.num_state)/env.num_state\n",
    "\n",
    "start_time = time.time()\n",
    "V_optimal_policy,pi_optimal_policy = policy_iteration(env, gamma, theta)\n",
    "print(\"--- %s seconds ---\" % (time.time() - start_time))"
   ]
  },
  {
   "cell_type": "code",
   "execution_count": 87,
   "metadata": {},
   "outputs": [],
   "source": [
    "V_rho_optimal = np.dot(rho,V_optimal_policy)[0]"
   ]
  },
  {
   "cell_type": "code",
   "execution_count": 88,
   "metadata": {},
   "outputs": [
    {
     "data": {
      "text/plain": [
       "7.061334180717789"
      ]
     },
     "execution_count": 88,
     "metadata": {},
     "output_type": "execute_result"
    }
   ],
   "source": [
    "V_rho_optimal"
   ]
  },
  {
   "cell_type": "code",
   "execution_count": 89,
   "metadata": {},
   "outputs": [
    {
     "name": "stdout",
     "output_type": "stream",
     "text": [
      "Iterations Completed\n",
      "--- 12.840350866317749 seconds ---\n"
     ]
    }
   ],
   "source": [
    "iterations = 100\n",
    "step_size = 0.5\n",
    "pi_lazy_md,V_lazy_md,history_lazy_md = lazy_md(env,gamma,theta,rho,iterations,V_rho_optimal,step_size)"
   ]
  },
  {
   "cell_type": "code",
   "execution_count": 152,
   "metadata": {},
   "outputs": [
    {
     "name": "stdout",
     "output_type": "stream",
     "text": [
      "Iterations Completed\n",
      "--- 9.986143112182617 seconds ---\n"
     ]
    }
   ],
   "source": [
    "iterations = 200\n",
    "step_size = 0.5\n",
    "pi_ppg_cstep,V_ppg_cstep,history_ppg_cstep = trpo_ppg_cstep(env,gamma,iterations,step_size,V_rho_optimal)"
   ]
  },
  {
   "cell_type": "code",
   "execution_count": 96,
   "metadata": {},
   "outputs": [
    {
     "name": "stdout",
     "output_type": "stream",
     "text": [
      "Iterations Completed\n",
      "--- 1.5323681831359863 seconds ---\n"
     ]
    }
   ],
   "source": [
    "iterations = 250\n",
    "step_size = 0.5\n",
    "pi_ne_cstep,V_ne_cstep,history_ne_cstep = trpo_ne_cstep(env,gamma,iterations,step_size,V_rho_optimal)"
   ]
  },
  {
   "cell_type": "code",
   "execution_count": 153,
   "metadata": {},
   "outputs": [
    {
     "name": "stdout",
     "output_type": "stream",
     "text": [
      "Iterations Completed\n",
      "--- 33.45601797103882 seconds ---\n"
     ]
    }
   ],
   "source": [
    "iterations = 500\n",
    "alpha = 2\n",
    "pi_ppg_vstep,V_ppg_vstep,history_ppg_vstep = trpo_ppg_vstep(env,gamma,iterations,alpha,V_rho_optimal)"
   ]
  },
  {
   "cell_type": "code",
   "execution_count": 135,
   "metadata": {},
   "outputs": [
    {
     "name": "stdout",
     "output_type": "stream",
     "text": [
      "Iterations Completed\n",
      "--- 0.8118739128112793 seconds ---\n"
     ]
    }
   ],
   "source": [
    "iterations = 100\n",
    "alpha = 2\n",
    "pi_ne_vstep,V_ne_vstep,history_ne_vstep = trpo_ne_vstep(env,gamma,iterations,alpha,V_rho_optimal)"
   ]
  },
  {
   "cell_type": "markdown",
   "metadata": {},
   "source": [
    "## Plot"
   ]
  },
  {
   "cell_type": "code",
   "execution_count": 174,
   "metadata": {},
   "outputs": [],
   "source": [
    "def plot_log(history_lazy_md,history_ppg_cstep,history_ne_cstep,history_ppg_vstep,history_ne_vstep):\n",
    "    \n",
    "    #x=np.array(range(0,iterations))\n",
    "    x1=np.log(np.array(range(1,len(history_lazy_md)+1)))\n",
    "    y1=np.log(np.array(history_lazy_md)[:])\n",
    "\n",
    "    x2=np.log(np.array(range(1,len(history_ppg_cstep)+1)))\n",
    "    y2=np.log(np.array(history_ppg_cstep)[:])\n",
    "    \n",
    "    x3=np.log(np.array(range(1,len(history_ne_cstep)+1)))\n",
    "    y3=np.log(np.array(history_ne_cstep)[:])\n",
    "    \n",
    "    x4=np.log(np.array(range(1,len(history_ppg_vstep)+1)))\n",
    "    y4=np.log(np.array(history_ppg_vstep)[:])\n",
    "    \n",
    "    x5=np.log(np.array(range(1,len(history_ne_vstep)+1)))\n",
    "    y5=np.log(np.array(history_ne_vstep)[:])\n",
    "    \n",
    "    plt.tick_params(axis='y',labelsize=9)\n",
    "    plt.tick_params(axis='x',labelsize=9)\n",
    "    plt.xlabel('log(t)', fontsize=12)\n",
    "    plt.ylabel('log(V_opt-V(t))', fontsize=12)\n",
    "    #plt.plot(x1,y1,label='Lazy mirror step=0.5') \n",
    "    plt.plot(x2,y2,label='Mirror PPG constant step=0.5')\n",
    "    plt.plot(x3,y3,label='Mirror NE-TRPO constant step=0.5')\n",
    "    plt.plot(x4,y4,label='Mirror PPG variant step,alpha=2')\n",
    "    plt.plot(x5,y5,label='Mirror NE-TRPO variant step,alpha=2')\n",
    "    plt.title('50x2 MDP',fontsize=15)\n",
    "    fig_size=(10,7)\n",
    "    plt.rcParams[\"figure.figsize\"] = fig_size\n",
    "    plt.legend(loc='best') \n",
    "    plt.show()"
   ]
  },
  {
   "cell_type": "code",
   "execution_count": 175,
   "metadata": {},
   "outputs": [
    {
     "data": {
      "image/png": "[encoded data removed]",
      "text/plain": [
       "<Figure size 720x504 with 1 Axes>"
      ]
     },
     "metadata": {},
     "output_type": "display_data"
    }
   ],
   "source": [
    "#current plot isnt showing lazy mirror\n",
    "plot_log(history_lazy_md,history_ppg_cstep,history_ne_cstep,history_ppg_vstep,history_ne_vstep)"
   ]
  },
  {
   "cell_type": "code",
   "execution_count": 176,
   "metadata": {},
   "outputs": [],
   "source": [
    "def plot_log(V_lazy_md,V_ppg_cstep,V_ne_cstep,V_ppg_vstep,V_ne_vstep):\n",
    "    \n",
    "    #x=np.array(range(0,iterations))\n",
    "    x1=(np.array(range(1,len(V_lazy_md)+1)))\n",
    "    y1=(np.array(V_lazy_md)[:])\n",
    "\n",
    "    x2=(np.array(range(1,len(V_ppg_cstep)+1)))\n",
    "    y2=(np.array(V_ppg_cstep)[:])\n",
    "    \n",
    "    x3=(np.array(range(1,len(V_ne_cstep)+1)))\n",
    "    y3=(np.array(V_ne_cstep)[:])\n",
    "    \n",
    "    x4=(np.array(range(1,len(V_ppg_vstep)+1)))\n",
    "    y4=(np.array(V_ppg_vstep)[:])\n",
    "    \n",
    "    x5=(np.array(range(1,len(V_ne_vstep)+1)))\n",
    "    y5=(np.array(V_ne_vstep)[:])\n",
    "    \n",
    "    plt.tick_params(axis='y',labelsize=9)\n",
    "    plt.tick_params(axis='x',labelsize=9)\n",
    "    plt.xlabel('iterations', fontsize=15)\n",
    "    plt.ylabel('V(rho)', fontsize=15)\n",
    "    plt.plot(x1,y1,label='Lazy mirror step=0.5') \n",
    "    plt.plot(x2,y2,label='Mirror PPG constant step=0.5')\n",
    "    plt.plot(x3,y3,label='Mirror NE-TRPO constant step=0.5')\n",
    "    plt.plot(x4,y4,label='Mirror PPG variant step,alpha=2')\n",
    "    plt.plot(x5,y5,label='Mirror NE-TRPO variant step,alpha=2')\n",
    "    plt.title('50x2 MDP',fontsize=15)\n",
    "    fig_size=(10,7)\n",
    "    plt.rcParams[\"figure.figsize\"] = fig_size\n",
    "    plt.legend(loc='best') \n",
    "    plt.show()"
   ]
  },
  {
   "cell_type": "code",
   "execution_count": 177,
   "metadata": {},
   "outputs": [
    {
     "data": {
      "image/png": "[encoded data removed]",
      "text/plain": [
       "<Figure size 720x504 with 1 Axes>"
      ]
     },
     "metadata": {},
     "output_type": "display_data"
    }
   ],
   "source": [
    "plot_log(V_lazy_md,V_ppg_cstep,V_ne_cstep,V_ppg_vstep,V_ne_vstep)"
   ]
  },
  {
   "cell_type": "markdown",
   "metadata": {},
   "source": [
    "## Observation"
   ]
  },
  {
   "cell_type": "markdown",
   "metadata": {},
   "source": [
    "#### We see that both mirror and lazy-mirror descent converge to the optimal solution with almost the same rate of convergence"
   ]
  }
 ],
 "metadata": {
  "kernelspec": {
   "display_name": "Python 3",
   "language": "python",
   "name": "python3"
  },
  "language_info": {
   "codemirror_mode": {
    "name": "ipython",
    "version": 3
   },
   "file_extension": ".py",
   "mimetype": "text/x-python",
   "name": "python",
   "nbconvert_exporter": "python",
   "pygments_lexer": "ipython3",
   "version": "3.7.6"
  }
 },
 "nbformat": 4,
 "nbformat_minor": 4
}
